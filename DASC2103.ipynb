{
  "nbformat": 4,
  "nbformat_minor": 0,
  "metadata": {
    "colab": {
      "provenance": []
    },
    "kernelspec": {
      "name": "python3",
      "display_name": "Python 3"
    },
    "language_info": {
      "name": "python"
    }
  },
  "cells": [
    {
      "cell_type": "code",
      "execution_count": null,
      "metadata": {
        "id": "iHAGI1VR9j58"
      },
      "outputs": [],
      "source": [
        "# Import libraries\n",
        "import graphviz\n",
        "import pandas as pd\n",
        "import numpy as np\n",
        "import matplotlib.pyplot as plt\n",
        "from sklearn import tree\n",
        "from sklearn.model_selection import train_test_split\n",
        "\n",
        "# Load the data from the Excel file\n",
        "churn = pd.read_excel(\"Telco_Customer_Churn.xlsx\")"
      ]
    },
    {
      "cell_type": "markdown",
      "source": [
        "#EDA\n",
        "\n",
        "Let's first take a look at our data."
      ],
      "metadata": {
        "id": "Q_Mj8AOvL7kg"
      }
    },
    {
      "cell_type": "code",
      "source": [
        "# Print out first few rows of raw data\n",
        "churn.head()"
      ],
      "metadata": {
        "colab": {
          "base_uri": "https://localhost:8080/",
          "height": 386
        },
        "id": "IL7rp6NIKaLl",
        "outputId": "d487bd90-6a80-4604-8979-1ea093c5699b"
      },
      "execution_count": null,
      "outputs": [
        {
          "output_type": "execute_result",
          "data": {
            "text/plain": [
              "   CustomerID  Gender  SeniorCitizen Partner Dependents  Tenure PhoneService  \\\n",
              "0  7590-VHVEG  Female              0     Yes         No       1           No   \n",
              "1  5575-GNVDE    Male              0      No         No      34          Yes   \n",
              "2  3668-QPYBK    Male              0      No         No       2          Yes   \n",
              "3  7795-CFOCW    Male              0      No         No      45           No   \n",
              "4  9237-HQITU  Female              0      No         No       2          Yes   \n",
              "\n",
              "      MultipleLines InternetService OnlineSecurity  ... DeviceProtection  \\\n",
              "0  No phone service             DSL             No  ...               No   \n",
              "1                No             DSL            Yes  ...              Yes   \n",
              "2                No             DSL            Yes  ...               No   \n",
              "3  No phone service             DSL            Yes  ...              Yes   \n",
              "4                No     Fiber optic             No  ...               No   \n",
              "\n",
              "  TechSupport StreamingTV StreamingMovies        Contract PaperlessBilling  \\\n",
              "0          No          No              No  Month-to-month              Yes   \n",
              "1          No          No              No        One year               No   \n",
              "2          No          No              No  Month-to-month              Yes   \n",
              "3         Yes          No              No        One year               No   \n",
              "4          No          No              No  Month-to-month              Yes   \n",
              "\n",
              "               PaymentMethod MonthlyCharges  TotalCharges Churn  \n",
              "0           Electronic check          29.85         29.85    No  \n",
              "1               Mailed check          56.95        1889.5    No  \n",
              "2               Mailed check          53.85        108.15   Yes  \n",
              "3  Bank transfer (automatic)          42.30       1840.75    No  \n",
              "4           Electronic check          70.70        151.65   Yes  \n",
              "\n",
              "[5 rows x 21 columns]"
            ],
            "text/html": [
              "\n",
              "  <div id=\"df-1844f651-2da1-43f4-a6a4-fbd08485fb2e\">\n",
              "    <div class=\"colab-df-container\">\n",
              "      <div>\n",
              "<style scoped>\n",
              "    .dataframe tbody tr th:only-of-type {\n",
              "        vertical-align: middle;\n",
              "    }\n",
              "\n",
              "    .dataframe tbody tr th {\n",
              "        vertical-align: top;\n",
              "    }\n",
              "\n",
              "    .dataframe thead th {\n",
              "        text-align: right;\n",
              "    }\n",
              "</style>\n",
              "<table border=\"1\" class=\"dataframe\">\n",
              "  <thead>\n",
              "    <tr style=\"text-align: right;\">\n",
              "      <th></th>\n",
              "      <th>CustomerID</th>\n",
              "      <th>Gender</th>\n",
              "      <th>SeniorCitizen</th>\n",
              "      <th>Partner</th>\n",
              "      <th>Dependents</th>\n",
              "      <th>Tenure</th>\n",
              "      <th>PhoneService</th>\n",
              "      <th>MultipleLines</th>\n",
              "      <th>InternetService</th>\n",
              "      <th>OnlineSecurity</th>\n",
              "      <th>...</th>\n",
              "      <th>DeviceProtection</th>\n",
              "      <th>TechSupport</th>\n",
              "      <th>StreamingTV</th>\n",
              "      <th>StreamingMovies</th>\n",
              "      <th>Contract</th>\n",
              "      <th>PaperlessBilling</th>\n",
              "      <th>PaymentMethod</th>\n",
              "      <th>MonthlyCharges</th>\n",
              "      <th>TotalCharges</th>\n",
              "      <th>Churn</th>\n",
              "    </tr>\n",
              "  </thead>\n",
              "  <tbody>\n",
              "    <tr>\n",
              "      <th>0</th>\n",
              "      <td>7590-VHVEG</td>\n",
              "      <td>Female</td>\n",
              "      <td>0</td>\n",
              "      <td>Yes</td>\n",
              "      <td>No</td>\n",
              "      <td>1</td>\n",
              "      <td>No</td>\n",
              "      <td>No phone service</td>\n",
              "      <td>DSL</td>\n",
              "      <td>No</td>\n",
              "      <td>...</td>\n",
              "      <td>No</td>\n",
              "      <td>No</td>\n",
              "      <td>No</td>\n",
              "      <td>No</td>\n",
              "      <td>Month-to-month</td>\n",
              "      <td>Yes</td>\n",
              "      <td>Electronic check</td>\n",
              "      <td>29.85</td>\n",
              "      <td>29.85</td>\n",
              "      <td>No</td>\n",
              "    </tr>\n",
              "    <tr>\n",
              "      <th>1</th>\n",
              "      <td>5575-GNVDE</td>\n",
              "      <td>Male</td>\n",
              "      <td>0</td>\n",
              "      <td>No</td>\n",
              "      <td>No</td>\n",
              "      <td>34</td>\n",
              "      <td>Yes</td>\n",
              "      <td>No</td>\n",
              "      <td>DSL</td>\n",
              "      <td>Yes</td>\n",
              "      <td>...</td>\n",
              "      <td>Yes</td>\n",
              "      <td>No</td>\n",
              "      <td>No</td>\n",
              "      <td>No</td>\n",
              "      <td>One year</td>\n",
              "      <td>No</td>\n",
              "      <td>Mailed check</td>\n",
              "      <td>56.95</td>\n",
              "      <td>1889.5</td>\n",
              "      <td>No</td>\n",
              "    </tr>\n",
              "    <tr>\n",
              "      <th>2</th>\n",
              "      <td>3668-QPYBK</td>\n",
              "      <td>Male</td>\n",
              "      <td>0</td>\n",
              "      <td>No</td>\n",
              "      <td>No</td>\n",
              "      <td>2</td>\n",
              "      <td>Yes</td>\n",
              "      <td>No</td>\n",
              "      <td>DSL</td>\n",
              "      <td>Yes</td>\n",
              "      <td>...</td>\n",
              "      <td>No</td>\n",
              "      <td>No</td>\n",
              "      <td>No</td>\n",
              "      <td>No</td>\n",
              "      <td>Month-to-month</td>\n",
              "      <td>Yes</td>\n",
              "      <td>Mailed check</td>\n",
              "      <td>53.85</td>\n",
              "      <td>108.15</td>\n",
              "      <td>Yes</td>\n",
              "    </tr>\n",
              "    <tr>\n",
              "      <th>3</th>\n",
              "      <td>7795-CFOCW</td>\n",
              "      <td>Male</td>\n",
              "      <td>0</td>\n",
              "      <td>No</td>\n",
              "      <td>No</td>\n",
              "      <td>45</td>\n",
              "      <td>No</td>\n",
              "      <td>No phone service</td>\n",
              "      <td>DSL</td>\n",
              "      <td>Yes</td>\n",
              "      <td>...</td>\n",
              "      <td>Yes</td>\n",
              "      <td>Yes</td>\n",
              "      <td>No</td>\n",
              "      <td>No</td>\n",
              "      <td>One year</td>\n",
              "      <td>No</td>\n",
              "      <td>Bank transfer (automatic)</td>\n",
              "      <td>42.30</td>\n",
              "      <td>1840.75</td>\n",
              "      <td>No</td>\n",
              "    </tr>\n",
              "    <tr>\n",
              "      <th>4</th>\n",
              "      <td>9237-HQITU</td>\n",
              "      <td>Female</td>\n",
              "      <td>0</td>\n",
              "      <td>No</td>\n",
              "      <td>No</td>\n",
              "      <td>2</td>\n",
              "      <td>Yes</td>\n",
              "      <td>No</td>\n",
              "      <td>Fiber optic</td>\n",
              "      <td>No</td>\n",
              "      <td>...</td>\n",
              "      <td>No</td>\n",
              "      <td>No</td>\n",
              "      <td>No</td>\n",
              "      <td>No</td>\n",
              "      <td>Month-to-month</td>\n",
              "      <td>Yes</td>\n",
              "      <td>Electronic check</td>\n",
              "      <td>70.70</td>\n",
              "      <td>151.65</td>\n",
              "      <td>Yes</td>\n",
              "    </tr>\n",
              "  </tbody>\n",
              "</table>\n",
              "<p>5 rows × 21 columns</p>\n",
              "</div>\n",
              "      <button class=\"colab-df-convert\" onclick=\"convertToInteractive('df-1844f651-2da1-43f4-a6a4-fbd08485fb2e')\"\n",
              "              title=\"Convert this dataframe to an interactive table.\"\n",
              "              style=\"display:none;\">\n",
              "        \n",
              "  <svg xmlns=\"http://www.w3.org/2000/svg\" height=\"24px\"viewBox=\"0 0 24 24\"\n",
              "       width=\"24px\">\n",
              "    <path d=\"M0 0h24v24H0V0z\" fill=\"none\"/>\n",
              "    <path d=\"M18.56 5.44l.94 2.06.94-2.06 2.06-.94-2.06-.94-.94-2.06-.94 2.06-2.06.94zm-11 1L8.5 8.5l.94-2.06 2.06-.94-2.06-.94L8.5 2.5l-.94 2.06-2.06.94zm10 10l.94 2.06.94-2.06 2.06-.94-2.06-.94-.94-2.06-.94 2.06-2.06.94z\"/><path d=\"M17.41 7.96l-1.37-1.37c-.4-.4-.92-.59-1.43-.59-.52 0-1.04.2-1.43.59L10.3 9.45l-7.72 7.72c-.78.78-.78 2.05 0 2.83L4 21.41c.39.39.9.59 1.41.59.51 0 1.02-.2 1.41-.59l7.78-7.78 2.81-2.81c.8-.78.8-2.07 0-2.86zM5.41 20L4 18.59l7.72-7.72 1.47 1.35L5.41 20z\"/>\n",
              "  </svg>\n",
              "      </button>\n",
              "      \n",
              "  <style>\n",
              "    .colab-df-container {\n",
              "      display:flex;\n",
              "      flex-wrap:wrap;\n",
              "      gap: 12px;\n",
              "    }\n",
              "\n",
              "    .colab-df-convert {\n",
              "      background-color: #E8F0FE;\n",
              "      border: none;\n",
              "      border-radius: 50%;\n",
              "      cursor: pointer;\n",
              "      display: none;\n",
              "      fill: #1967D2;\n",
              "      height: 32px;\n",
              "      padding: 0 0 0 0;\n",
              "      width: 32px;\n",
              "    }\n",
              "\n",
              "    .colab-df-convert:hover {\n",
              "      background-color: #E2EBFA;\n",
              "      box-shadow: 0px 1px 2px rgba(60, 64, 67, 0.3), 0px 1px 3px 1px rgba(60, 64, 67, 0.15);\n",
              "      fill: #174EA6;\n",
              "    }\n",
              "\n",
              "    [theme=dark] .colab-df-convert {\n",
              "      background-color: #3B4455;\n",
              "      fill: #D2E3FC;\n",
              "    }\n",
              "\n",
              "    [theme=dark] .colab-df-convert:hover {\n",
              "      background-color: #434B5C;\n",
              "      box-shadow: 0px 1px 3px 1px rgba(0, 0, 0, 0.15);\n",
              "      filter: drop-shadow(0px 1px 2px rgba(0, 0, 0, 0.3));\n",
              "      fill: #FFFFFF;\n",
              "    }\n",
              "  </style>\n",
              "\n",
              "      <script>\n",
              "        const buttonEl =\n",
              "          document.querySelector('#df-1844f651-2da1-43f4-a6a4-fbd08485fb2e button.colab-df-convert');\n",
              "        buttonEl.style.display =\n",
              "          google.colab.kernel.accessAllowed ? 'block' : 'none';\n",
              "\n",
              "        async function convertToInteractive(key) {\n",
              "          const element = document.querySelector('#df-1844f651-2da1-43f4-a6a4-fbd08485fb2e');\n",
              "          const dataTable =\n",
              "            await google.colab.kernel.invokeFunction('convertToInteractive',\n",
              "                                                     [key], {});\n",
              "          if (!dataTable) return;\n",
              "\n",
              "          const docLinkHtml = 'Like what you see? Visit the ' +\n",
              "            '<a target=\"_blank\" href=https://colab.research.google.com/notebooks/data_table.ipynb>data table notebook</a>'\n",
              "            + ' to learn more about interactive tables.';\n",
              "          element.innerHTML = '';\n",
              "          dataTable['output_type'] = 'display_data';\n",
              "          await google.colab.output.renderOutput(dataTable, element);\n",
              "          const docLink = document.createElement('div');\n",
              "          docLink.innerHTML = docLinkHtml;\n",
              "          element.appendChild(docLink);\n",
              "        }\n",
              "      </script>\n",
              "    </div>\n",
              "  </div>\n",
              "  "
            ]
          },
          "metadata": {},
          "execution_count": 3
        }
      ]
    },
    {
      "cell_type": "code",
      "source": [
        "# Print out column names\n",
        "print(churn.columns)\n",
        "\n",
        "# Print out number of observations\n",
        "print(len(churn.index))"
      ],
      "metadata": {
        "colab": {
          "base_uri": "https://localhost:8080/"
        },
        "id": "ZNueeXpxN61q",
        "outputId": "46d3ee23-d36f-4f5e-dddf-a33c2e1e9611"
      },
      "execution_count": null,
      "outputs": [
        {
          "output_type": "stream",
          "name": "stdout",
          "text": [
            "Index(['CustomerID', 'Gender', 'SeniorCitizen', 'Partner', 'Dependents',\n",
            "       'Tenure', 'PhoneService', 'MultipleLines', 'InternetService',\n",
            "       'OnlineSecurity', 'OnlineBackup', 'DeviceProtection', 'TechSupport',\n",
            "       'StreamingTV', 'StreamingMovies', 'Contract', 'PaperlessBilling',\n",
            "       'PaymentMethod', 'MonthlyCharges', 'TotalCharges', 'Churn'],\n",
            "      dtype='object')\n",
            "7043\n"
          ]
        }
      ]
    },
    {
      "cell_type": "markdown",
      "source": [
        "There are 7043 observations containing information of the customer. From these attributes we will predict whether they are likely to churn or not."
      ],
      "metadata": {
        "id": "0wx0Y-0SOMss"
      }
    },
    {
      "cell_type": "code",
      "source": [
        "# Statistics for `Gender` variable: gender of subject\n",
        "churn[\"Gender\"].describe()"
      ],
      "metadata": {
        "colab": {
          "base_uri": "https://localhost:8080/"
        },
        "id": "yHp8eyyaI42n",
        "outputId": "d6f49bc0-ebf8-4ccd-96ee-7ac836f8e060"
      },
      "execution_count": null,
      "outputs": [
        {
          "output_type": "execute_result",
          "data": {
            "text/plain": [
              "count     7043\n",
              "unique       2\n",
              "top       Male\n",
              "freq      3555\n",
              "Name: Gender, dtype: object"
            ]
          },
          "metadata": {},
          "execution_count": 7
        }
      ]
    },
    {
      "cell_type": "code",
      "source": [
        "# Statistics for `SeniorCitizen` variable: subject's status as a senior citizen\n",
        "churn[\"SeniorCitizen\"].describe()"
      ],
      "metadata": {
        "colab": {
          "base_uri": "https://localhost:8080/"
        },
        "id": "JPgnFLJtMKAm",
        "outputId": "544ca92e-3003-4b60-ee76-e2e1543f5f2d"
      },
      "execution_count": null,
      "outputs": [
        {
          "output_type": "execute_result",
          "data": {
            "text/plain": [
              "count    7043.000000\n",
              "mean        0.162147\n",
              "std         0.368612\n",
              "min         0.000000\n",
              "25%         0.000000\n",
              "50%         0.000000\n",
              "75%         0.000000\n",
              "max         1.000000\n",
              "Name: SeniorCitizen, dtype: float64"
            ]
          },
          "metadata": {},
          "execution_count": 8
        }
      ]
    },
    {
      "cell_type": "code",
      "source": [
        "# Statistics for `Partner` variable: subject's relationship status\n",
        "churn[\"Partner\"].describe()"
      ],
      "metadata": {
        "colab": {
          "base_uri": "https://localhost:8080/"
        },
        "id": "6dudvx47Owd5",
        "outputId": "17ddd965-16ed-4fe6-debd-5d0aae61524e"
      },
      "execution_count": null,
      "outputs": [
        {
          "output_type": "execute_result",
          "data": {
            "text/plain": [
              "count     7043\n",
              "unique       2\n",
              "top         No\n",
              "freq      3641\n",
              "Name: Partner, dtype: object"
            ]
          },
          "metadata": {},
          "execution_count": 9
        }
      ]
    },
    {
      "cell_type": "markdown",
      "source": [
        "We will take a closer look at a few groups' churn patterns."
      ],
      "metadata": {
        "id": "jF2F5DWUdw6c"
      }
    },
    {
      "cell_type": "code",
      "source": [
        "# Checking the churn counts for each gender\n",
        "eda_gender = churn[[\"Gender\", \"Churn\"]]\n",
        "df_gender = eda_gender.groupby(\"Gender\").value_counts()\n",
        "print(df_gender)\n",
        "\n",
        "print(\"\\nNumber of Females:\", (df_gender[0] + df_gender[1]))\n",
        "print(\"Number of Males:\", (df_gender[2] + df_gender[3]), \"\\n\")\n",
        "\n",
        "print(\"Percent of Females Churned:\", df_gender[1] / (df_gender[0] + df_gender[1]))\n",
        "print(\"Percent of Males Churned:\", df_gender[3] / (df_gender[2] + df_gender[3]))\n"
      ],
      "metadata": {
        "colab": {
          "base_uri": "https://localhost:8080/"
        },
        "id": "HdnyMix3dukg",
        "outputId": "ca231d72-6eae-426c-c1a2-db0ee9cd1541"
      },
      "execution_count": null,
      "outputs": [
        {
          "output_type": "stream",
          "name": "stdout",
          "text": [
            "Gender  Churn\n",
            "Female  No       2549\n",
            "        Yes       939\n",
            "Male    No       2625\n",
            "        Yes       930\n",
            "dtype: int64\n",
            "\n",
            "Number of Females: 3488\n",
            "Number of Males: 3555 \n",
            "\n",
            "Percent of Females Churned: 0.26920871559633025\n",
            "Percent of Males Churned: 0.2616033755274262\n"
          ]
        }
      ]
    },
    {
      "cell_type": "markdown",
      "source": [
        "From this, we can see that there  roughly the same number of male and female customers are in the data, and males churned at the roughly the same rate as females churned."
      ],
      "metadata": {
        "id": "v8zJjJsbeIJU"
      }
    },
    {
      "cell_type": "code",
      "source": [
        "# Checking the churn counts by senior citizen status\n",
        "eda_senior = churn[[\"SeniorCitizen\", \"Churn\"]]\n",
        "df_senior = eda_senior.groupby(\"SeniorCitizen\").value_counts()\n",
        "print(df_senior)\n",
        "\n",
        "print(\"\\nNumber of Non-Senior Citizens:\", (df_senior.iloc[0] + df_senior.iloc[1]))\n",
        "print(\"Number of Senior Citizens:\", (df_senior.iloc[2] + df_senior.iloc[3]), \"\\n\")\n",
        "\n",
        "print(\"Percent of Non-Senior Citizens Churned:\", df_senior.iloc[1] / (df_senior.iloc[0] + df_senior.iloc[1]))\n",
        "print(\"Percent of Senior Citizens Churned:\", df_senior.iloc[3] / (df_senior.iloc[2] + df_senior.iloc[3]))"
      ],
      "metadata": {
        "colab": {
          "base_uri": "https://localhost:8080/"
        },
        "id": "bAdv0XPbdGUh",
        "outputId": "f62ea8c2-7097-434e-dc1f-2fe3a2d20492"
      },
      "execution_count": null,
      "outputs": [
        {
          "output_type": "stream",
          "name": "stdout",
          "text": [
            "SeniorCitizen  Churn\n",
            "0              No       4508\n",
            "               Yes      1393\n",
            "1              No        666\n",
            "               Yes       476\n",
            "dtype: int64\n",
            "\n",
            "Number of Non-Senior Citizens: 5901\n",
            "Number of Senior Citizens: 1142 \n",
            "\n",
            "Percent of Non-Senior Citizens Churned: 0.23606168446026096\n",
            "Percent of Senior Citizens Churned: 0.4168126094570928\n"
          ]
        }
      ]
    },
    {
      "cell_type": "markdown",
      "source": [
        "From this, we can see that there are fewer senior citizen customers in the data than non-senior citizens. We also see that senior citizens churned more frequently than non-senior citizens."
      ],
      "metadata": {
        "id": "VT44kqqregfo"
      }
    },
    {
      "cell_type": "code",
      "source": [
        "# Checking the churn counts by marriage/partner status\n",
        "eda_partner = churn[[\"Partner\", \"Churn\"]]\n",
        "df_partner = eda_partner.groupby(\"Partner\").value_counts()\n",
        "print(df_partner)\n",
        "\n",
        "print(\"\\nNumber of Non-Partnered:\", (df_partner[0] + df_partner[1]))\n",
        "print(\"Number of Partnered:\", (df_partner[2] + df_partner[3]), \"\\n\")\n",
        "\n",
        "print(\"Percent of Non-Partnered Churned:\", df_partner[1] / (df_partner[0] + df_partner[1]))\n",
        "print(\"Percent of Partnered Churned:\", df_partner[3] / (df_partner[2] + df_partner[3]))"
      ],
      "metadata": {
        "colab": {
          "base_uri": "https://localhost:8080/"
        },
        "id": "YuI51gBqdMyg",
        "outputId": "5362ebe3-e78d-4c41-bccd-7e7d396b31fc"
      },
      "execution_count": null,
      "outputs": [
        {
          "output_type": "stream",
          "name": "stdout",
          "text": [
            "Partner  Churn\n",
            "No       No       2441\n",
            "         Yes      1200\n",
            "Yes      No       2733\n",
            "         Yes       669\n",
            "dtype: int64\n",
            "\n",
            "Number of Non-Partnered: 3641\n",
            "Number of Partnered: 3402 \n",
            "\n",
            "Percent of Non-Partnered Churned: 0.32957978577313923\n",
            "Percent of Partnered Churned: 0.1966490299823633\n"
          ]
        }
      ]
    },
    {
      "cell_type": "markdown",
      "source": [
        "Here we can see that there are more customers without partners than with, and customers without partners churned more frequently than customers with partners."
      ],
      "metadata": {
        "id": "jBgoUbTVljii"
      }
    },
    {
      "cell_type": "code",
      "source": [
        "# Checking churn counts for the entire dataset \n",
        "eda = churn[[\"Churn\"]]\n",
        "df = eda.value_counts()\n",
        "print(df)\n",
        "\n",
        "print(\"\\nPercent Churned:\", df[1] / (df[0] + df[1]))\n"
      ],
      "metadata": {
        "colab": {
          "base_uri": "https://localhost:8080/"
        },
        "id": "7ZGkpdH2dU7S",
        "outputId": "d2a67a63-83f7-433e-8d5e-176ae08b828a"
      },
      "execution_count": null,
      "outputs": [
        {
          "output_type": "stream",
          "name": "stdout",
          "text": [
            "Churn\n",
            "No       5174\n",
            "Yes      1869\n",
            "dtype: int64\n",
            "\n",
            "Percent Churned: 0.2653698707936959\n"
          ]
        }
      ]
    },
    {
      "cell_type": "markdown",
      "source": [
        "In the entire dataset, 26.5% of the customers churned."
      ],
      "metadata": {
        "id": "RsMrzrbOmVQX"
      }
    },
    {
      "cell_type": "markdown",
      "source": [
        "# Data Wrangling\n",
        "If you take a look at the data, notice that the majority of the columns contain string and float datatype. The string datatypes are problematic for our model. Most models perform best when the values are integers or float, because it reduces room for misinterpretations."
      ],
      "metadata": {
        "id": "aIEvgNlJMf6N"
      }
    },
    {
      "cell_type": "markdown",
      "source": [
        "Let's take a look at all the unique values within each attribute. Doing this allows us to decide how to convert the values to binary encoding."
      ],
      "metadata": {
        "id": "oS8-0BQ_PNuP"
      }
    },
    {
      "cell_type": "code",
      "source": [
        "# Loop over each column printing unique values\n",
        "for col in churn.columns:\n",
        "  # Print out unique values for this column\n",
        "  print(col, churn[col].unique())"
      ],
      "metadata": {
        "colab": {
          "base_uri": "https://localhost:8080/"
        },
        "id": "ar00YAh8jb5w",
        "outputId": "bb0f77ec-4478-44b5-ce3d-6ffb52305109"
      },
      "execution_count": null,
      "outputs": [
        {
          "output_type": "stream",
          "name": "stdout",
          "text": [
            "CustomerID ['7590-VHVEG' '5575-GNVDE' '3668-QPYBK' ... '4801-JZAZL' '8361-LTMKD'\n",
            " '3186-AJIEK']\n",
            "Gender ['Female' 'Male']\n",
            "SeniorCitizen [0 1]\n",
            "Partner ['Yes' 'No']\n",
            "Dependents ['No' 'Yes']\n",
            "Tenure [ 1 34  2 45  8 22 10 28 62 13 16 58 49 25 69 52 71 21 12 30 47 72 17 27\n",
            "  5 46 11 70 63 43 15 60 18 66  9  3 31 50 64 56  7 42 35 48 29 65 38 68\n",
            " 32 55 37 36 41  6  4 33 67 23 57 61 14 20 53 40 59 24 44 19 54 51 26  0\n",
            " 39]\n",
            "PhoneService ['No' 'Yes']\n",
            "MultipleLines ['No phone service' 'No' 'Yes']\n",
            "InternetService ['DSL' 'Fiber optic' 'No']\n",
            "OnlineSecurity ['No' 'Yes' 'No internet service']\n",
            "OnlineBackup ['Yes' 'No' 'No internet service']\n",
            "DeviceProtection ['No' 'Yes' 'No internet service']\n",
            "TechSupport ['No' 'Yes' 'No internet service']\n",
            "StreamingTV ['No' 'Yes' 'No internet service']\n",
            "StreamingMovies ['No' 'Yes' 'No internet service']\n",
            "Contract ['Month-to-month' 'One year' 'Two year']\n",
            "PaperlessBilling ['Yes' 'No']\n",
            "PaymentMethod ['Electronic check' 'Mailed check' 'Bank transfer (automatic)'\n",
            " 'Credit card (automatic)']\n",
            "MonthlyCharges [29.85 56.95 53.85 ... 63.1  44.2  78.7 ]\n",
            "TotalCharges [29.85 1889.5 108.15 ... 346.45 306.6 6844.5]\n",
            "Churn ['No' 'Yes']\n"
          ]
        }
      ]
    },
    {
      "cell_type": "code",
      "source": [
        "# Converting the Contract column to binary values\n",
        "churn[\"Month-to-month\"] = (churn[\"Contract\"] == \"Month-to-month\").astype(int)\n",
        "churn[\"One year\"] = (churn[\"Contract\"] == \"One year\").astype(int)\n",
        "churn[\"Two year\"] = (churn[\"Contract\"] == \"Two year\").astype(int)\n",
        "churn.drop(\"Contract\", axis = 1, inplace=True)\n",
        "\n",
        "# Converting the PaymentMethod column to binary values\n",
        "churn[\"Electronic check\"] = (churn[\"PaymentMethod\"] == \"Electronic check\").astype(int)\n",
        "churn[\"Mailed check\"] = (churn[\"PaymentMethod\"] == \"Mailed check\").astype(int)\n",
        "churn[\"Bank transfer (automatic)\"] = (churn[\"PaymentMethod\"] == \"Bank transfer (automatic)\").astype(int)\n",
        "churn[\"Credit card (automatic)\"] = (churn[\"PaymentMethod\"] == \"Credit card (automatic)\").astype(int)\n",
        "churn.drop(\"PaymentMethod\", axis = 1, inplace=True)"
      ],
      "metadata": {
        "id": "x7QeJ6sjO4Nu"
      },
      "execution_count": null,
      "outputs": []
    },
    {
      "cell_type": "code",
      "source": [
        "# Change \"yes\" and \"no\" to 1 and 0\n",
        "churn[\"Partner\"] = churn[\"Partner\"].map({\"Yes\": 1, \"No\": 0})\n",
        "churn[\"Dependents\"] = churn[\"Dependents\"].map({\"Yes\": 1, \"No\": 0})\n",
        "churn[\"PhoneService\"] = churn[\"PhoneService\"].map({\"Yes\": 1, \"No\": 0, \"No phone service\": 0})\n",
        "churn[\"MultipleLines\"] = churn[\"MultipleLines\"].map({\"Yes\": 1, \"No\": 0, \"No phone service\": 0})\n",
        "churn[\"OnlineSecurity\"] = churn[\"OnlineSecurity\"].map({\"Yes\": 1, \"No\": 0, \"No internet service\": 0})\n",
        "churn[\"OnlineBackup\"] = churn[\"OnlineBackup\"].map({\"Yes\": 1, \"No\": 0, \"No internet service\": 0})\n",
        "churn[\"DeviceProtection\"] = churn[\"DeviceProtection\"].map({\"Yes\": 1, \"No\": 0, \"No internet service\": 0})\n",
        "churn[\"TechSupport\"] = churn[\"TechSupport\"].map({\"Yes\": 1, \"No\": 0, \"No internet service\": 0})\n",
        "churn[\"StreamingTV\"] = churn[\"StreamingTV\"].map({\"Yes\": 1, \"No\": 0, \"No internet service\": 0})\n",
        "churn[\"StreamingMovies\"] = churn[\"StreamingMovies\"].map({\"Yes\": 1, \"No\": 0, \"No internet service\": 0})\n",
        "churn[\"PaperlessBilling\"] = churn[\"PaperlessBilling\"].map({\"Yes\": 1, \"No\": 0})\n",
        "churn[\"Churn\"] = churn[\"Churn\"].map({\"Yes\": 1, \"No\": 0})\n",
        "\n",
        "# Change \"Male\" to 0, \"Female\" to 1\n",
        "churn[\"Gender\"] = churn[\"Gender\"].map({\"Female\": 1, \"Male\": 0})"
      ],
      "metadata": {
        "id": "xaOUUp4kKxZA"
      },
      "execution_count": null,
      "outputs": []
    },
    {
      "cell_type": "code",
      "source": [
        "# Remove `InternetService` variable\n",
        "churn.drop(\"InternetService\", axis = 1, inplace=True)\n",
        "\n",
        "# Changing order and names of variables\n",
        "churn.columns = [\n",
        "    \"custid\",\n",
        "    \"gender\",\n",
        "    \"senior\",\n",
        "    \"partner\",\n",
        "    \"dependents\",\n",
        "    \"tenure\",\n",
        "    \"phone\",\n",
        "    \"lines\",\n",
        "    \"security\",\n",
        "    \"backup\",\n",
        "    \"protection\",\n",
        "    \"support\",\n",
        "    \"tv\",\n",
        "    \"movies\",\n",
        "    \"paperless\",\n",
        "    \"monthly\",\n",
        "    \"total\",\n",
        "    \"churn\",\n",
        "    \"is_monthly\",\n",
        "    \"is_yearly\",\n",
        "    \"is_biannual\",\n",
        "    \"electric_check\",\n",
        "    \"mail_check\",\n",
        "    \"autotransfer\",\n",
        "    \"autocredit\"\n",
        "]\n",
        "\n",
        "# Put `churn` response variable at the end of the Pandas\n",
        "churn[\"churn\"] = churn.pop(\"churn\")\n",
        "\n",
        "# Remove nonnumeric total values\n",
        "churn = churn[pd.to_numeric(churn[\"total\"], errors=\"coerce\").notnull()]"
      ],
      "metadata": {
        "id": "XfFd2rkJQ2H5"
      },
      "execution_count": null,
      "outputs": []
    },
    {
      "cell_type": "code",
      "source": [
        "# Print out first few rows of cleaned data\n",
        "churn.head()"
      ],
      "metadata": {
        "colab": {
          "base_uri": "https://localhost:8080/",
          "height": 386
        },
        "id": "n-jpJIf2Lv5n",
        "outputId": "9288aa03-c8d5-49f5-8984-63362cebf806"
      },
      "execution_count": null,
      "outputs": [
        {
          "output_type": "execute_result",
          "data": {
            "text/plain": [
              "       custid  gender  senior  partner  dependents  tenure  phone  lines  \\\n",
              "0  7590-VHVEG       1       0        1           0       1      0      0   \n",
              "1  5575-GNVDE       0       0        0           0      34      1      0   \n",
              "2  3668-QPYBK       0       0        0           0       2      1      0   \n",
              "3  7795-CFOCW       0       0        0           0      45      0      0   \n",
              "4  9237-HQITU       1       0        0           0       2      1      0   \n",
              "\n",
              "   security  backup  ...  monthly    total  is_monthly  is_yearly  \\\n",
              "0         0       1  ...    29.85    29.85           1          0   \n",
              "1         1       0  ...    56.95   1889.5           0          1   \n",
              "2         1       1  ...    53.85   108.15           1          0   \n",
              "3         1       0  ...    42.30  1840.75           0          1   \n",
              "4         0       0  ...    70.70   151.65           1          0   \n",
              "\n",
              "   is_biannual  electric_check mail_check  autotransfer  autocredit  churn  \n",
              "0            0               1          0             0           0      0  \n",
              "1            0               0          1             0           0      0  \n",
              "2            0               0          1             0           0      1  \n",
              "3            0               0          0             1           0      0  \n",
              "4            0               1          0             0           0      1  \n",
              "\n",
              "[5 rows x 25 columns]"
            ],
            "text/html": [
              "\n",
              "  <div id=\"df-5f748d67-7a9d-4b80-960d-f24f86e0c592\">\n",
              "    <div class=\"colab-df-container\">\n",
              "      <div>\n",
              "<style scoped>\n",
              "    .dataframe tbody tr th:only-of-type {\n",
              "        vertical-align: middle;\n",
              "    }\n",
              "\n",
              "    .dataframe tbody tr th {\n",
              "        vertical-align: top;\n",
              "    }\n",
              "\n",
              "    .dataframe thead th {\n",
              "        text-align: right;\n",
              "    }\n",
              "</style>\n",
              "<table border=\"1\" class=\"dataframe\">\n",
              "  <thead>\n",
              "    <tr style=\"text-align: right;\">\n",
              "      <th></th>\n",
              "      <th>custid</th>\n",
              "      <th>gender</th>\n",
              "      <th>senior</th>\n",
              "      <th>partner</th>\n",
              "      <th>dependents</th>\n",
              "      <th>tenure</th>\n",
              "      <th>phone</th>\n",
              "      <th>lines</th>\n",
              "      <th>security</th>\n",
              "      <th>backup</th>\n",
              "      <th>...</th>\n",
              "      <th>monthly</th>\n",
              "      <th>total</th>\n",
              "      <th>is_monthly</th>\n",
              "      <th>is_yearly</th>\n",
              "      <th>is_biannual</th>\n",
              "      <th>electric_check</th>\n",
              "      <th>mail_check</th>\n",
              "      <th>autotransfer</th>\n",
              "      <th>autocredit</th>\n",
              "      <th>churn</th>\n",
              "    </tr>\n",
              "  </thead>\n",
              "  <tbody>\n",
              "    <tr>\n",
              "      <th>0</th>\n",
              "      <td>7590-VHVEG</td>\n",
              "      <td>1</td>\n",
              "      <td>0</td>\n",
              "      <td>1</td>\n",
              "      <td>0</td>\n",
              "      <td>1</td>\n",
              "      <td>0</td>\n",
              "      <td>0</td>\n",
              "      <td>0</td>\n",
              "      <td>1</td>\n",
              "      <td>...</td>\n",
              "      <td>29.85</td>\n",
              "      <td>29.85</td>\n",
              "      <td>1</td>\n",
              "      <td>0</td>\n",
              "      <td>0</td>\n",
              "      <td>1</td>\n",
              "      <td>0</td>\n",
              "      <td>0</td>\n",
              "      <td>0</td>\n",
              "      <td>0</td>\n",
              "    </tr>\n",
              "    <tr>\n",
              "      <th>1</th>\n",
              "      <td>5575-GNVDE</td>\n",
              "      <td>0</td>\n",
              "      <td>0</td>\n",
              "      <td>0</td>\n",
              "      <td>0</td>\n",
              "      <td>34</td>\n",
              "      <td>1</td>\n",
              "      <td>0</td>\n",
              "      <td>1</td>\n",
              "      <td>0</td>\n",
              "      <td>...</td>\n",
              "      <td>56.95</td>\n",
              "      <td>1889.5</td>\n",
              "      <td>0</td>\n",
              "      <td>1</td>\n",
              "      <td>0</td>\n",
              "      <td>0</td>\n",
              "      <td>1</td>\n",
              "      <td>0</td>\n",
              "      <td>0</td>\n",
              "      <td>0</td>\n",
              "    </tr>\n",
              "    <tr>\n",
              "      <th>2</th>\n",
              "      <td>3668-QPYBK</td>\n",
              "      <td>0</td>\n",
              "      <td>0</td>\n",
              "      <td>0</td>\n",
              "      <td>0</td>\n",
              "      <td>2</td>\n",
              "      <td>1</td>\n",
              "      <td>0</td>\n",
              "      <td>1</td>\n",
              "      <td>1</td>\n",
              "      <td>...</td>\n",
              "      <td>53.85</td>\n",
              "      <td>108.15</td>\n",
              "      <td>1</td>\n",
              "      <td>0</td>\n",
              "      <td>0</td>\n",
              "      <td>0</td>\n",
              "      <td>1</td>\n",
              "      <td>0</td>\n",
              "      <td>0</td>\n",
              "      <td>1</td>\n",
              "    </tr>\n",
              "    <tr>\n",
              "      <th>3</th>\n",
              "      <td>7795-CFOCW</td>\n",
              "      <td>0</td>\n",
              "      <td>0</td>\n",
              "      <td>0</td>\n",
              "      <td>0</td>\n",
              "      <td>45</td>\n",
              "      <td>0</td>\n",
              "      <td>0</td>\n",
              "      <td>1</td>\n",
              "      <td>0</td>\n",
              "      <td>...</td>\n",
              "      <td>42.30</td>\n",
              "      <td>1840.75</td>\n",
              "      <td>0</td>\n",
              "      <td>1</td>\n",
              "      <td>0</td>\n",
              "      <td>0</td>\n",
              "      <td>0</td>\n",
              "      <td>1</td>\n",
              "      <td>0</td>\n",
              "      <td>0</td>\n",
              "    </tr>\n",
              "    <tr>\n",
              "      <th>4</th>\n",
              "      <td>9237-HQITU</td>\n",
              "      <td>1</td>\n",
              "      <td>0</td>\n",
              "      <td>0</td>\n",
              "      <td>0</td>\n",
              "      <td>2</td>\n",
              "      <td>1</td>\n",
              "      <td>0</td>\n",
              "      <td>0</td>\n",
              "      <td>0</td>\n",
              "      <td>...</td>\n",
              "      <td>70.70</td>\n",
              "      <td>151.65</td>\n",
              "      <td>1</td>\n",
              "      <td>0</td>\n",
              "      <td>0</td>\n",
              "      <td>1</td>\n",
              "      <td>0</td>\n",
              "      <td>0</td>\n",
              "      <td>0</td>\n",
              "      <td>1</td>\n",
              "    </tr>\n",
              "  </tbody>\n",
              "</table>\n",
              "<p>5 rows × 25 columns</p>\n",
              "</div>\n",
              "      <button class=\"colab-df-convert\" onclick=\"convertToInteractive('df-5f748d67-7a9d-4b80-960d-f24f86e0c592')\"\n",
              "              title=\"Convert this dataframe to an interactive table.\"\n",
              "              style=\"display:none;\">\n",
              "        \n",
              "  <svg xmlns=\"http://www.w3.org/2000/svg\" height=\"24px\"viewBox=\"0 0 24 24\"\n",
              "       width=\"24px\">\n",
              "    <path d=\"M0 0h24v24H0V0z\" fill=\"none\"/>\n",
              "    <path d=\"M18.56 5.44l.94 2.06.94-2.06 2.06-.94-2.06-.94-.94-2.06-.94 2.06-2.06.94zm-11 1L8.5 8.5l.94-2.06 2.06-.94-2.06-.94L8.5 2.5l-.94 2.06-2.06.94zm10 10l.94 2.06.94-2.06 2.06-.94-2.06-.94-.94-2.06-.94 2.06-2.06.94z\"/><path d=\"M17.41 7.96l-1.37-1.37c-.4-.4-.92-.59-1.43-.59-.52 0-1.04.2-1.43.59L10.3 9.45l-7.72 7.72c-.78.78-.78 2.05 0 2.83L4 21.41c.39.39.9.59 1.41.59.51 0 1.02-.2 1.41-.59l7.78-7.78 2.81-2.81c.8-.78.8-2.07 0-2.86zM5.41 20L4 18.59l7.72-7.72 1.47 1.35L5.41 20z\"/>\n",
              "  </svg>\n",
              "      </button>\n",
              "      \n",
              "  <style>\n",
              "    .colab-df-container {\n",
              "      display:flex;\n",
              "      flex-wrap:wrap;\n",
              "      gap: 12px;\n",
              "    }\n",
              "\n",
              "    .colab-df-convert {\n",
              "      background-color: #E8F0FE;\n",
              "      border: none;\n",
              "      border-radius: 50%;\n",
              "      cursor: pointer;\n",
              "      display: none;\n",
              "      fill: #1967D2;\n",
              "      height: 32px;\n",
              "      padding: 0 0 0 0;\n",
              "      width: 32px;\n",
              "    }\n",
              "\n",
              "    .colab-df-convert:hover {\n",
              "      background-color: #E2EBFA;\n",
              "      box-shadow: 0px 1px 2px rgba(60, 64, 67, 0.3), 0px 1px 3px 1px rgba(60, 64, 67, 0.15);\n",
              "      fill: #174EA6;\n",
              "    }\n",
              "\n",
              "    [theme=dark] .colab-df-convert {\n",
              "      background-color: #3B4455;\n",
              "      fill: #D2E3FC;\n",
              "    }\n",
              "\n",
              "    [theme=dark] .colab-df-convert:hover {\n",
              "      background-color: #434B5C;\n",
              "      box-shadow: 0px 1px 3px 1px rgba(0, 0, 0, 0.15);\n",
              "      filter: drop-shadow(0px 1px 2px rgba(0, 0, 0, 0.3));\n",
              "      fill: #FFFFFF;\n",
              "    }\n",
              "  </style>\n",
              "\n",
              "      <script>\n",
              "        const buttonEl =\n",
              "          document.querySelector('#df-5f748d67-7a9d-4b80-960d-f24f86e0c592 button.colab-df-convert');\n",
              "        buttonEl.style.display =\n",
              "          google.colab.kernel.accessAllowed ? 'block' : 'none';\n",
              "\n",
              "        async function convertToInteractive(key) {\n",
              "          const element = document.querySelector('#df-5f748d67-7a9d-4b80-960d-f24f86e0c592');\n",
              "          const dataTable =\n",
              "            await google.colab.kernel.invokeFunction('convertToInteractive',\n",
              "                                                     [key], {});\n",
              "          if (!dataTable) return;\n",
              "\n",
              "          const docLinkHtml = 'Like what you see? Visit the ' +\n",
              "            '<a target=\"_blank\" href=https://colab.research.google.com/notebooks/data_table.ipynb>data table notebook</a>'\n",
              "            + ' to learn more about interactive tables.';\n",
              "          element.innerHTML = '';\n",
              "          dataTable['output_type'] = 'display_data';\n",
              "          await google.colab.output.renderOutput(dataTable, element);\n",
              "          const docLink = document.createElement('div');\n",
              "          docLink.innerHTML = docLinkHtml;\n",
              "          element.appendChild(docLink);\n",
              "        }\n",
              "      </script>\n",
              "    </div>\n",
              "  </div>\n",
              "  "
            ]
          },
          "metadata": {},
          "execution_count": 14
        }
      ]
    },
    {
      "cell_type": "code",
      "source": [
        "# Set figure size to 4:3 ratio (the aspect ratio of a PowerPoint slide)\n",
        "plt.figure(figsize=(4, 3))\n",
        "\n",
        "# Group the data by those who churned versus those who didn't\n",
        "plt.bar([\"Did not churn\", \"Churned\"], churn.groupby(\"churn\")[\"churn\"].count())\n",
        "\n",
        "# Save figure in high resolution for PowerPoint\n",
        "plt.savefig(\"graph.png\", dpi=1000)"
      ],
      "metadata": {
        "colab": {
          "base_uri": "https://localhost:8080/",
          "height": 291
        },
        "id": "Ufw2-gwfV_MB",
        "outputId": "2e73aa7d-6878-4e9b-d31f-c77d5df8e139"
      },
      "execution_count": null,
      "outputs": [
        {
          "output_type": "display_data",
          "data": {
            "text/plain": [
              "<Figure size 400x300 with 1 Axes>"
            ],
            "image/png": "[encoded data removed]"
          },
          "metadata": {}
        }
      ]
    },
    {
      "cell_type": "markdown",
      "source": [
        "# Decision Tree"
      ],
      "metadata": {
        "id": "Us9Mh9vWnXl9"
      }
    },
    {
      "cell_type": "markdown",
      "source": [
        "First, the dataset is split into training data and testing data using the `train_test_split` function. The training data is stored in `X_train` and `y_train`, while the testing data is stored in `X_test` and `y_test`."
      ],
      "metadata": {
        "id": "-UqhZApti1Vx"
      }
    },
    {
      "cell_type": "code",
      "source": [
        "# Create our feature matrix using the first 24 variables\n",
        "X = churn.iloc[:, 1:24].astype(float)\n",
        "\n",
        "# Create our response vector using the last variable, `churn`\n",
        "y = churn[\"churn\"].astype(float)\n",
        "\n",
        "# Split our dataset into training data versus testing data\n",
        "X_train, X_test, y_train, y_test = train_test_split(X, y)"
      ],
      "metadata": {
        "id": "8fhZ9QthYNyn"
      },
      "execution_count": null,
      "outputs": []
    },
    {
      "cell_type": "markdown",
      "source": [
        "Secondly, we construct a decision tree classifier to model a binary classification problem. The decision tree is created with an empty structure using the `DecisionTreeClassifier()` function from the `tree` module. The decision tree is then pruned to prevent overfitting and improve generalization using the cost-complexity pruning method. The tuning parameters of the pruned tree, effective alphas (`ccp_alphas`) and impurities (`impurities`), are calculated using the `cost_complexity_pruning_path()` function applied on the training dataset.\n",
        "\n",
        "\n",
        "\n",
        "\n"
      ],
      "metadata": {
        "id": "cudeidk0jALe"
      }
    },
    {
      "cell_type": "code",
      "source": [
        "# Create an empty decision tree classifier\n",
        "clf = tree.DecisionTreeClassifier()\n",
        "\n",
        "# Prune decision tree to remove unecessary branches\n",
        "path = clf.cost_complexity_pruning_path(X_train, y_train)\n",
        "\n",
        "# Get our tuning parameters using the above pruning algorithm\n",
        "ccp_alphas = path.ccp_alphas\n",
        "impurities = path.impurities"
      ],
      "metadata": {
        "id": "5WFGrIYDbMQb"
      },
      "execution_count": null,
      "outputs": []
    },
    {
      "cell_type": "markdown",
      "source": [
        "Thirdly, we loop over each value of `ccp_alpha` and create a decision tree classifier. In doing so, we create a sequence of decision trees with increasing levels of pruning, representing a tradeoff between model complexity and accuracy."
      ],
      "metadata": {
        "id": "Qdfec0IGjwnS"
      }
    },
    {
      "cell_type": "code",
      "source": [
        "# Create an empty list to store decision trees\n",
        "clfs = []\n",
        "\n",
        "# Loop over each tuning parameter and create a tree using that parameter\n",
        "for ccp_alpha in ccp_alphas:\n",
        "  # Create a decision tree using our ccp_alpha tuning parameter\n",
        "  clf = tree.DecisionTreeClassifier(ccp_alpha=ccp_alpha)\n",
        "\n",
        "  # Fit our decision tree to our data\n",
        "  clf.fit(X_train, y_train)\n",
        "\n",
        "  # Add our decision tree to our list of decision trees\n",
        "  clfs.append(clf)"
      ],
      "metadata": {
        "id": "SXJhucdrbZhe"
      },
      "execution_count": null,
      "outputs": []
    },
    {
      "cell_type": "code",
      "source": [
        "# Print out a relatively simple decision tree with moderate-to-good accuracy\n",
        "tree.plot_tree(clfs[-6], feature_names=X.columns, class_names=[\"Yes\", \"No\"])"
      ],
      "metadata": {
        "colab": {
          "base_uri": "https://localhost:8080/",
          "height": 601
        },
        "id": "f0OSRBbHem7f",
        "outputId": "86212f5d-e058-4ea5-c4cf-3f480787e471"
      },
      "execution_count": null,
      "outputs": [
        {
          "output_type": "execute_result",
          "data": {
            "text/plain": [
              "[Text(0.375, 0.9, 'is_monthly <= 0.5\\ngini = 0.392\\nsamples = 5274\\nvalue = [3860, 1414]\\nclass = Yes'),\n",
              " Text(0.25, 0.7, 'gini = 0.13\\nsamples = 2353\\nvalue = [2189, 164]\\nclass = Yes'),\n",
              " Text(0.5, 0.7, 'monthly <= 69.525\\ngini = 0.49\\nsamples = 2921\\nvalue = [1671, 1250]\\nclass = Yes'),\n",
              " Text(0.25, 0.5, 'tenure <= 3.5\\ngini = 0.415\\nsamples = 1291\\nvalue = [912, 379]\\nclass = Yes'),\n",
              " Text(0.125, 0.3, 'gini = 0.497\\nsamples = 462\\nvalue = [249, 213]\\nclass = Yes'),\n",
              " Text(0.375, 0.3, 'gini = 0.32\\nsamples = 829\\nvalue = [663, 166]\\nclass = Yes'),\n",
              " Text(0.75, 0.5, 'tenure <= 15.5\\ngini = 0.498\\nsamples = 1630\\nvalue = [759, 871]\\nclass = No'),\n",
              " Text(0.625, 0.3, 'total <= 118.1\\ngini = 0.43\\nsamples = 765\\nvalue = [239, 526]\\nclass = No'),\n",
              " Text(0.5, 0.1, 'gini = 0.207\\nsamples = 162\\nvalue = [19, 143]\\nclass = No'),\n",
              " Text(0.75, 0.1, 'gini = 0.463\\nsamples = 603\\nvalue = [220, 383]\\nclass = No'),\n",
              " Text(0.875, 0.3, 'gini = 0.48\\nsamples = 865\\nvalue = [520, 345]\\nclass = Yes')]"
            ]
          },
          "metadata": {},
          "execution_count": 18
        },
        {
          "output_type": "display_data",
          "data": {
            "text/plain": [
              "<Figure size 640x480 with 1 Axes>"
            ],
            "image/png": "[encoded data removed]"
          },
          "metadata": {}
        }
      ]
    },
    {
      "cell_type": "markdown",
      "source": [
        "# Logistic Regression"
      ],
      "metadata": {
        "id": "aUVu3sGNj1pi"
      }
    },
    {
      "cell_type": "code",
      "source": [
        "from sklearn.linear_model import LogisticRegression\n",
        "from sklearn.metrics import precision_recall_fscore_support\n",
        "from sklearn.metrics import accuracy_score"
      ],
      "metadata": {
        "id": "VGw0n6VRlceX"
      },
      "execution_count": null,
      "outputs": []
    },
    {
      "cell_type": "markdown",
      "source": [
        "We will take a look at two case to understand the importance of selecting attributes. The first case is using all attributes and selecting specific attributes."
      ],
      "metadata": {
        "id": "MLVryFwuP4D3"
      }
    },
    {
      "cell_type": "code",
      "source": [
        "churn.corr()"
      ],
      "metadata": {
        "colab": {
          "base_uri": "https://localhost:8080/",
          "height": 899
        },
        "id": "zlPYr7J0qPOe",
        "outputId": "54a9ffb9-c135-445e-80b8-1aa4a67394cd"
      },
      "execution_count": null,
      "outputs": [
        {
          "output_type": "stream",
          "name": "stderr",
          "text": [
            "<ipython-input-20-9f285b74dfe6>:1: FutureWarning: The default value of numeric_only in DataFrame.corr is deprecated. In a future version, it will default to False. Select only valid columns or specify the value of numeric_only to silence this warning.\n",
            "  churn.corr()\n"
          ]
        },
        {
          "output_type": "execute_result",
          "data": {
            "text/plain": [
              "                  gender    senior   partner  dependents    tenure     phone  \\\n",
              "gender          1.000000  0.001819  0.001379   -0.010349 -0.005285  0.007515   \n",
              "senior          0.001819  1.000000  0.016957   -0.210550  0.015683  0.008392   \n",
              "partner         0.001379  0.016957  1.000000    0.452269  0.381912  0.018397   \n",
              "dependents     -0.010349 -0.210550  0.452269    1.000000  0.163386 -0.001078   \n",
              "tenure         -0.005285  0.015683  0.381912    0.163386  1.000000  0.007877   \n",
              "phone           0.007515  0.008392  0.018397   -0.001078  0.007877  1.000000   \n",
              "lines           0.008883  0.142996  0.142561   -0.024307  0.332399  0.279530   \n",
              "security        0.016328 -0.038576  0.143346    0.080786  0.328297 -0.091676   \n",
              "backup          0.013093  0.066663  0.141849    0.023639  0.361138 -0.052133   \n",
              "protection      0.000807  0.059514  0.153556    0.013900  0.361520 -0.070076   \n",
              "support         0.008507 -0.060577  0.120206    0.063053  0.325288 -0.095138   \n",
              "tv              0.007124  0.105445  0.124483   -0.016499  0.280264 -0.021383   \n",
              "movies          0.010105  0.119842  0.118108   -0.038375  0.285402 -0.033477   \n",
              "paperless       0.011902  0.156258 -0.013957   -0.110131  0.004823  0.016696   \n",
              "monthly         0.013779  0.219874  0.097825   -0.112343  0.246862  0.248033   \n",
              "is_monthly      0.003251  0.137752 -0.280202   -0.229715 -0.649346 -0.001243   \n",
              "is_yearly      -0.007755 -0.046491  0.083067    0.069222  0.202338 -0.003142   \n",
              "is_biannual     0.003603 -0.116205  0.247334    0.201699  0.563801  0.004442   \n",
              "electric_check -0.000844  0.171322 -0.083207   -0.149274 -0.210197  0.002747   \n",
              "mail_check     -0.013199 -0.152987 -0.096948    0.056448 -0.232181 -0.004463   \n",
              "autotransfer    0.015973 -0.016235  0.111406    0.052369  0.243822  0.008271   \n",
              "autocredit     -0.001632 -0.024359  0.082327    0.061134  0.232800 -0.006916   \n",
              "churn           0.008545  0.150541 -0.149982   -0.163128 -0.354049  0.011691   \n",
              "\n",
              "                   lines  security    backup  protection  ...  paperless  \\\n",
              "gender          0.008883  0.016328  0.013093    0.000807  ...   0.011902   \n",
              "senior          0.142996 -0.038576  0.066663    0.059514  ...   0.156258   \n",
              "partner         0.142561  0.143346  0.141849    0.153556  ...  -0.013957   \n",
              "dependents     -0.024307  0.080786  0.023639    0.013900  ...  -0.110131   \n",
              "tenure          0.332399  0.328297  0.361138    0.361520  ...   0.004823   \n",
              "phone           0.279530 -0.091676 -0.052133   -0.070076  ...   0.016696   \n",
              "lines           1.000000  0.098592  0.202228    0.201733  ...   0.163746   \n",
              "security        0.098592  1.000000  0.283285    0.274875  ...  -0.004051   \n",
              "backup          0.202228  0.283285  1.000000    0.303058  ...   0.127056   \n",
              "protection      0.201733  0.274875  0.303058    1.000000  ...   0.104079   \n",
              "support         0.100421  0.354458  0.293705    0.332850  ...   0.037536   \n",
              "tv              0.257804  0.175514  0.281601    0.389924  ...   0.224241   \n",
              "movies          0.259194  0.187426  0.274523    0.402309  ...   0.211583   \n",
              "paperless       0.163746 -0.004051  0.127056    0.104079  ...   1.000000   \n",
              "monthly         0.490912  0.296447  0.441529    0.482607  ...   0.351930   \n",
              "is_monthly     -0.088558 -0.246844 -0.164393   -0.225988  ...   0.168296   \n",
              "is_yearly      -0.003594  0.100658  0.084113    0.102911  ...  -0.052278   \n",
              "is_biannual     0.106618  0.191698  0.111391    0.165248  ...  -0.146281   \n",
              "electric_check  0.083583 -0.112295 -0.000364   -0.003308  ...   0.208427   \n",
              "mail_check     -0.227672 -0.079918 -0.174075   -0.187325  ...  -0.203981   \n",
              "autotransfer    0.075429  0.094366  0.086942    0.083047  ...  -0.017469   \n",
              "autocredit      0.060319  0.115473  0.090455    0.111252  ...  -0.013726   \n",
              "churn           0.040033 -0.171270 -0.082307   -0.066193  ...   0.191454   \n",
              "\n",
              "                 monthly  is_monthly  is_yearly  is_biannual  electric_check  \\\n",
              "gender          0.013779    0.003251  -0.007755     0.003603       -0.000844   \n",
              "senior          0.219874    0.137752  -0.046491    -0.116205        0.171322   \n",
              "partner         0.097825   -0.280202   0.083067     0.247334       -0.083207   \n",
              "dependents     -0.112343   -0.229715   0.069222     0.201699       -0.149274   \n",
              "tenure          0.246862   -0.649346   0.202338     0.563801       -0.210197   \n",
              "phone           0.248033   -0.001243  -0.003142     0.004442        0.002747   \n",
              "lines           0.490912   -0.088558  -0.003594     0.106618        0.083583   \n",
              "security        0.296447   -0.246844   0.100658     0.191698       -0.112295   \n",
              "backup          0.441529   -0.164393   0.084113     0.111391       -0.000364   \n",
              "protection      0.482607   -0.225988   0.102911     0.165248       -0.003308   \n",
              "support         0.338301   -0.285491   0.096258     0.240924       -0.114807   \n",
              "tv              0.629668   -0.112550   0.061930     0.072124        0.144747   \n",
              "movies          0.627235   -0.117867   0.064780     0.075603        0.137420   \n",
              "paperless       0.351930    0.168296  -0.052278    -0.146281        0.208427   \n",
              "monthly         1.000000    0.058933   0.004810    -0.073256        0.271117   \n",
              "is_monthly      0.058933    1.000000  -0.570053    -0.621933        0.330879   \n",
              "is_yearly       0.004810   -0.570053   1.000000    -0.288843       -0.109546   \n",
              "is_biannual    -0.073256   -0.621933  -0.288843     1.000000       -0.281147   \n",
              "electric_check  0.271117    0.330879  -0.109546    -0.281147        1.000000   \n",
              "mail_check     -0.376568    0.006209   0.000197    -0.007423       -0.386971   \n",
              "autotransfer    0.042410   -0.180159   0.057629     0.155004       -0.377270   \n",
              "autocredit      0.030055   -0.204960   0.067590     0.174410       -0.373978   \n",
              "churn           0.192858    0.404565  -0.178225    -0.301552        0.301455   \n",
              "\n",
              "                mail_check  autotransfer  autocredit     churn  \n",
              "gender           -0.013199      0.015973   -0.001632  0.008545  \n",
              "senior           -0.152987     -0.016235   -0.024359  0.150541  \n",
              "partner          -0.096948      0.111406    0.082327 -0.149982  \n",
              "dependents        0.056448      0.052369    0.061134 -0.163128  \n",
              "tenure           -0.232181      0.243822    0.232800 -0.354049  \n",
              "phone            -0.004463      0.008271   -0.006916  0.011691  \n",
              "lines            -0.227672      0.075429    0.060319  0.040033  \n",
              "security         -0.079918      0.094366    0.115473 -0.171270  \n",
              "backup           -0.174075      0.086942    0.090455 -0.082307  \n",
              "protection       -0.187325      0.083047    0.111252 -0.066193  \n",
              "support          -0.084631      0.100472    0.117024 -0.164716  \n",
              "tv               -0.247712      0.046121    0.040010  0.063254  \n",
              "movies           -0.250290      0.048755    0.048398  0.060860  \n",
              "paperless        -0.203981     -0.017469   -0.013726  0.191454  \n",
              "monthly          -0.376568      0.042410    0.030055  0.192858  \n",
              "is_monthly        0.006209     -0.180159   -0.204960  0.404565  \n",
              "is_yearly         0.000197      0.057629    0.067590 -0.178225  \n",
              "is_biannual      -0.007423      0.155004    0.174410 -0.301552  \n",
              "electric_check   -0.386971     -0.377270   -0.373978  0.301455  \n",
              "mail_check        1.000000     -0.288097   -0.285583 -0.090773  \n",
              "autotransfer     -0.288097      1.000000   -0.278423 -0.118136  \n",
              "autocredit       -0.285583     -0.278423    1.000000 -0.134687  \n",
              "churn            -0.090773     -0.118136   -0.134687  1.000000  \n",
              "\n",
              "[23 rows x 23 columns]"
            ],
            "text/html": [
              "\n",
              "  <div id=\"df-356ea5ac-0f13-4cfc-ab81-0130ff18f446\">\n",
              "    <div class=\"colab-df-container\">\n",
              "      <div>\n",
              "<style scoped>\n",
              "    .dataframe tbody tr th:only-of-type {\n",
              "        vertical-align: middle;\n",
              "    }\n",
              "\n",
              "    .dataframe tbody tr th {\n",
              "        vertical-align: top;\n",
              "    }\n",
              "\n",
              "    .dataframe thead th {\n",
              "        text-align: right;\n",
              "    }\n",
              "</style>\n",
              "<table border=\"1\" class=\"dataframe\">\n",
              "  <thead>\n",
              "    <tr style=\"text-align: right;\">\n",
              "      <th></th>\n",
              "      <th>gender</th>\n",
              "      <th>senior</th>\n",
              "      <th>partner</th>\n",
              "      <th>dependents</th>\n",
              "      <th>tenure</th>\n",
              "      <th>phone</th>\n",
              "      <th>lines</th>\n",
              "      <th>security</th>\n",
              "      <th>backup</th>\n",
              "      <th>protection</th>\n",
              "      <th>...</th>\n",
              "      <th>paperless</th>\n",
              "      <th>monthly</th>\n",
              "      <th>is_monthly</th>\n",
              "      <th>is_yearly</th>\n",
              "      <th>is_biannual</th>\n",
              "      <th>electric_check</th>\n",
              "      <th>mail_check</th>\n",
              "      <th>autotransfer</th>\n",
              "      <th>autocredit</th>\n",
              "      <th>churn</th>\n",
              "    </tr>\n",
              "  </thead>\n",
              "  <tbody>\n",
              "    <tr>\n",
              "      <th>gender</th>\n",
              "      <td>1.000000</td>\n",
              "      <td>0.001819</td>\n",
              "      <td>0.001379</td>\n",
              "      <td>-0.010349</td>\n",
              "      <td>-0.005285</td>\n",
              "      <td>0.007515</td>\n",
              "      <td>0.008883</td>\n",
              "      <td>0.016328</td>\n",
              "      <td>0.013093</td>\n",
              "      <td>0.000807</td>\n",
              "      <td>...</td>\n",
              "      <td>0.011902</td>\n",
              "      <td>0.013779</td>\n",
              "      <td>0.003251</td>\n",
              "      <td>-0.007755</td>\n",
              "      <td>0.003603</td>\n",
              "      <td>-0.000844</td>\n",
              "      <td>-0.013199</td>\n",
              "      <td>0.015973</td>\n",
              "      <td>-0.001632</td>\n",
              "      <td>0.008545</td>\n",
              "    </tr>\n",
              "    <tr>\n",
              "      <th>senior</th>\n",
              "      <td>0.001819</td>\n",
              "      <td>1.000000</td>\n",
              "      <td>0.016957</td>\n",
              "      <td>-0.210550</td>\n",
              "      <td>0.015683</td>\n",
              "      <td>0.008392</td>\n",
              "      <td>0.142996</td>\n",
              "      <td>-0.038576</td>\n",
              "      <td>0.066663</td>\n",
              "      <td>0.059514</td>\n",
              "      <td>...</td>\n",
              "      <td>0.156258</td>\n",
              "      <td>0.219874</td>\n",
              "      <td>0.137752</td>\n",
              "      <td>-0.046491</td>\n",
              "      <td>-0.116205</td>\n",
              "      <td>0.171322</td>\n",
              "      <td>-0.152987</td>\n",
              "      <td>-0.016235</td>\n",
              "      <td>-0.024359</td>\n",
              "      <td>0.150541</td>\n",
              "    </tr>\n",
              "    <tr>\n",
              "      <th>partner</th>\n",
              "      <td>0.001379</td>\n",
              "      <td>0.016957</td>\n",
              "      <td>1.000000</td>\n",
              "      <td>0.452269</td>\n",
              "      <td>0.381912</td>\n",
              "      <td>0.018397</td>\n",
              "      <td>0.142561</td>\n",
              "      <td>0.143346</td>\n",
              "      <td>0.141849</td>\n",
              "      <td>0.153556</td>\n",
              "      <td>...</td>\n",
              "      <td>-0.013957</td>\n",
              "      <td>0.097825</td>\n",
              "      <td>-0.280202</td>\n",
              "      <td>0.083067</td>\n",
              "      <td>0.247334</td>\n",
              "      <td>-0.083207</td>\n",
              "      <td>-0.096948</td>\n",
              "      <td>0.111406</td>\n",
              "      <td>0.082327</td>\n",
              "      <td>-0.149982</td>\n",
              "    </tr>\n",
              "    <tr>\n",
              "      <th>dependents</th>\n",
              "      <td>-0.010349</td>\n",
              "      <td>-0.210550</td>\n",
              "      <td>0.452269</td>\n",
              "      <td>1.000000</td>\n",
              "      <td>0.163386</td>\n",
              "      <td>-0.001078</td>\n",
              "      <td>-0.024307</td>\n",
              "      <td>0.080786</td>\n",
              "      <td>0.023639</td>\n",
              "      <td>0.013900</td>\n",
              "      <td>...</td>\n",
              "      <td>-0.110131</td>\n",
              "      <td>-0.112343</td>\n",
              "      <td>-0.229715</td>\n",
              "      <td>0.069222</td>\n",
              "      <td>0.201699</td>\n",
              "      <td>-0.149274</td>\n",
              "      <td>0.056448</td>\n",
              "      <td>0.052369</td>\n",
              "      <td>0.061134</td>\n",
              "      <td>-0.163128</td>\n",
              "    </tr>\n",
              "    <tr>\n",
              "      <th>tenure</th>\n",
              "      <td>-0.005285</td>\n",
              "      <td>0.015683</td>\n",
              "      <td>0.381912</td>\n",
              "      <td>0.163386</td>\n",
              "      <td>1.000000</td>\n",
              "      <td>0.007877</td>\n",
              "      <td>0.332399</td>\n",
              "      <td>0.328297</td>\n",
              "      <td>0.361138</td>\n",
              "      <td>0.361520</td>\n",
              "      <td>...</td>\n",
              "      <td>0.004823</td>\n",
              "      <td>0.246862</td>\n",
              "      <td>-0.649346</td>\n",
              "      <td>0.202338</td>\n",
              "      <td>0.563801</td>\n",
              "      <td>-0.210197</td>\n",
              "      <td>-0.232181</td>\n",
              "      <td>0.243822</td>\n",
              "      <td>0.232800</td>\n",
              "      <td>-0.354049</td>\n",
              "    </tr>\n",
              "    <tr>\n",
              "      <th>phone</th>\n",
              "      <td>0.007515</td>\n",
              "      <td>0.008392</td>\n",
              "      <td>0.018397</td>\n",
              "      <td>-0.001078</td>\n",
              "      <td>0.007877</td>\n",
              "      <td>1.000000</td>\n",
              "      <td>0.279530</td>\n",
              "      <td>-0.091676</td>\n",
              "      <td>-0.052133</td>\n",
              "      <td>-0.070076</td>\n",
              "      <td>...</td>\n",
              "      <td>0.016696</td>\n",
              "      <td>0.248033</td>\n",
              "      <td>-0.001243</td>\n",
              "      <td>-0.003142</td>\n",
              "      <td>0.004442</td>\n",
              "      <td>0.002747</td>\n",
              "      <td>-0.004463</td>\n",
              "      <td>0.008271</td>\n",
              "      <td>-0.006916</td>\n",
              "      <td>0.011691</td>\n",
              "    </tr>\n",
              "    <tr>\n",
              "      <th>lines</th>\n",
              "      <td>0.008883</td>\n",
              "      <td>0.142996</td>\n",
              "      <td>0.142561</td>\n",
              "      <td>-0.024307</td>\n",
              "      <td>0.332399</td>\n",
              "      <td>0.279530</td>\n",
              "      <td>1.000000</td>\n",
              "      <td>0.098592</td>\n",
              "      <td>0.202228</td>\n",
              "      <td>0.201733</td>\n",
              "      <td>...</td>\n",
              "      <td>0.163746</td>\n",
              "      <td>0.490912</td>\n",
              "      <td>-0.088558</td>\n",
              "      <td>-0.003594</td>\n",
              "      <td>0.106618</td>\n",
              "      <td>0.083583</td>\n",
              "      <td>-0.227672</td>\n",
              "      <td>0.075429</td>\n",
              "      <td>0.060319</td>\n",
              "      <td>0.040033</td>\n",
              "    </tr>\n",
              "    <tr>\n",
              "      <th>security</th>\n",
              "      <td>0.016328</td>\n",
              "      <td>-0.038576</td>\n",
              "      <td>0.143346</td>\n",
              "      <td>0.080786</td>\n",
              "      <td>0.328297</td>\n",
              "      <td>-0.091676</td>\n",
              "      <td>0.098592</td>\n",
              "      <td>1.000000</td>\n",
              "      <td>0.283285</td>\n",
              "      <td>0.274875</td>\n",
              "      <td>...</td>\n",
              "      <td>-0.004051</td>\n",
              "      <td>0.296447</td>\n",
              "      <td>-0.246844</td>\n",
              "      <td>0.100658</td>\n",
              "      <td>0.191698</td>\n",
              "      <td>-0.112295</td>\n",
              "      <td>-0.079918</td>\n",
              "      <td>0.094366</td>\n",
              "      <td>0.115473</td>\n",
              "      <td>-0.171270</td>\n",
              "    </tr>\n",
              "    <tr>\n",
              "      <th>backup</th>\n",
              "      <td>0.013093</td>\n",
              "      <td>0.066663</td>\n",
              "      <td>0.141849</td>\n",
              "      <td>0.023639</td>\n",
              "      <td>0.361138</td>\n",
              "      <td>-0.052133</td>\n",
              "      <td>0.202228</td>\n",
              "      <td>0.283285</td>\n",
              "      <td>1.000000</td>\n",
              "      <td>0.303058</td>\n",
              "      <td>...</td>\n",
              "      <td>0.127056</td>\n",
              "      <td>0.441529</td>\n",
              "      <td>-0.164393</td>\n",
              "      <td>0.084113</td>\n",
              "      <td>0.111391</td>\n",
              "      <td>-0.000364</td>\n",
              "      <td>-0.174075</td>\n",
              "      <td>0.086942</td>\n",
              "      <td>0.090455</td>\n",
              "      <td>-0.082307</td>\n",
              "    </tr>\n",
              "    <tr>\n",
              "      <th>protection</th>\n",
              "      <td>0.000807</td>\n",
              "      <td>0.059514</td>\n",
              "      <td>0.153556</td>\n",
              "      <td>0.013900</td>\n",
              "      <td>0.361520</td>\n",
              "      <td>-0.070076</td>\n",
              "      <td>0.201733</td>\n",
              "      <td>0.274875</td>\n",
              "      <td>0.303058</td>\n",
              "      <td>1.000000</td>\n",
              "      <td>...</td>\n",
              "      <td>0.104079</td>\n",
              "      <td>0.482607</td>\n",
              "      <td>-0.225988</td>\n",
              "      <td>0.102911</td>\n",
              "      <td>0.165248</td>\n",
              "      <td>-0.003308</td>\n",
              "      <td>-0.187325</td>\n",
              "      <td>0.083047</td>\n",
              "      <td>0.111252</td>\n",
              "      <td>-0.066193</td>\n",
              "    </tr>\n",
              "    <tr>\n",
              "      <th>support</th>\n",
              "      <td>0.008507</td>\n",
              "      <td>-0.060577</td>\n",
              "      <td>0.120206</td>\n",
              "      <td>0.063053</td>\n",
              "      <td>0.325288</td>\n",
              "      <td>-0.095138</td>\n",
              "      <td>0.100421</td>\n",
              "      <td>0.354458</td>\n",
              "      <td>0.293705</td>\n",
              "      <td>0.332850</td>\n",
              "      <td>...</td>\n",
              "      <td>0.037536</td>\n",
              "      <td>0.338301</td>\n",
              "      <td>-0.285491</td>\n",
              "      <td>0.096258</td>\n",
              "      <td>0.240924</td>\n",
              "      <td>-0.114807</td>\n",
              "      <td>-0.084631</td>\n",
              "      <td>0.100472</td>\n",
              "      <td>0.117024</td>\n",
              "      <td>-0.164716</td>\n",
              "    </tr>\n",
              "    <tr>\n",
              "      <th>tv</th>\n",
              "      <td>0.007124</td>\n",
              "      <td>0.105445</td>\n",
              "      <td>0.124483</td>\n",
              "      <td>-0.016499</td>\n",
              "      <td>0.280264</td>\n",
              "      <td>-0.021383</td>\n",
              "      <td>0.257804</td>\n",
              "      <td>0.175514</td>\n",
              "      <td>0.281601</td>\n",
              "      <td>0.389924</td>\n",
              "      <td>...</td>\n",
              "      <td>0.224241</td>\n",
              "      <td>0.629668</td>\n",
              "      <td>-0.112550</td>\n",
              "      <td>0.061930</td>\n",
              "      <td>0.072124</td>\n",
              "      <td>0.144747</td>\n",
              "      <td>-0.247712</td>\n",
              "      <td>0.046121</td>\n",
              "      <td>0.040010</td>\n",
              "      <td>0.063254</td>\n",
              "    </tr>\n",
              "    <tr>\n",
              "      <th>movies</th>\n",
              "      <td>0.010105</td>\n",
              "      <td>0.119842</td>\n",
              "      <td>0.118108</td>\n",
              "      <td>-0.038375</td>\n",
              "      <td>0.285402</td>\n",
              "      <td>-0.033477</td>\n",
              "      <td>0.259194</td>\n",
              "      <td>0.187426</td>\n",
              "      <td>0.274523</td>\n",
              "      <td>0.402309</td>\n",
              "      <td>...</td>\n",
              "      <td>0.211583</td>\n",
              "      <td>0.627235</td>\n",
              "      <td>-0.117867</td>\n",
              "      <td>0.064780</td>\n",
              "      <td>0.075603</td>\n",
              "      <td>0.137420</td>\n",
              "      <td>-0.250290</td>\n",
              "      <td>0.048755</td>\n",
              "      <td>0.048398</td>\n",
              "      <td>0.060860</td>\n",
              "    </tr>\n",
              "    <tr>\n",
              "      <th>paperless</th>\n",
              "      <td>0.011902</td>\n",
              "      <td>0.156258</td>\n",
              "      <td>-0.013957</td>\n",
              "      <td>-0.110131</td>\n",
              "      <td>0.004823</td>\n",
              "      <td>0.016696</td>\n",
              "      <td>0.163746</td>\n",
              "      <td>-0.004051</td>\n",
              "      <td>0.127056</td>\n",
              "      <td>0.104079</td>\n",
              "      <td>...</td>\n",
              "      <td>1.000000</td>\n",
              "      <td>0.351930</td>\n",
              "      <td>0.168296</td>\n",
              "      <td>-0.052278</td>\n",
              "      <td>-0.146281</td>\n",
              "      <td>0.208427</td>\n",
              "      <td>-0.203981</td>\n",
              "      <td>-0.017469</td>\n",
              "      <td>-0.013726</td>\n",
              "      <td>0.191454</td>\n",
              "    </tr>\n",
              "    <tr>\n",
              "      <th>monthly</th>\n",
              "      <td>0.013779</td>\n",
              "      <td>0.219874</td>\n",
              "      <td>0.097825</td>\n",
              "      <td>-0.112343</td>\n",
              "      <td>0.246862</td>\n",
              "      <td>0.248033</td>\n",
              "      <td>0.490912</td>\n",
              "      <td>0.296447</td>\n",
              "      <td>0.441529</td>\n",
              "      <td>0.482607</td>\n",
              "      <td>...</td>\n",
              "      <td>0.351930</td>\n",
              "      <td>1.000000</td>\n",
              "      <td>0.058933</td>\n",
              "      <td>0.004810</td>\n",
              "      <td>-0.073256</td>\n",
              "      <td>0.271117</td>\n",
              "      <td>-0.376568</td>\n",
              "      <td>0.042410</td>\n",
              "      <td>0.030055</td>\n",
              "      <td>0.192858</td>\n",
              "    </tr>\n",
              "    <tr>\n",
              "      <th>is_monthly</th>\n",
              "      <td>0.003251</td>\n",
              "      <td>0.137752</td>\n",
              "      <td>-0.280202</td>\n",
              "      <td>-0.229715</td>\n",
              "      <td>-0.649346</td>\n",
              "      <td>-0.001243</td>\n",
              "      <td>-0.088558</td>\n",
              "      <td>-0.246844</td>\n",
              "      <td>-0.164393</td>\n",
              "      <td>-0.225988</td>\n",
              "      <td>...</td>\n",
              "      <td>0.168296</td>\n",
              "      <td>0.058933</td>\n",
              "      <td>1.000000</td>\n",
              "      <td>-0.570053</td>\n",
              "      <td>-0.621933</td>\n",
              "      <td>0.330879</td>\n",
              "      <td>0.006209</td>\n",
              "      <td>-0.180159</td>\n",
              "      <td>-0.204960</td>\n",
              "      <td>0.404565</td>\n",
              "    </tr>\n",
              "    <tr>\n",
              "      <th>is_yearly</th>\n",
              "      <td>-0.007755</td>\n",
              "      <td>-0.046491</td>\n",
              "      <td>0.083067</td>\n",
              "      <td>0.069222</td>\n",
              "      <td>0.202338</td>\n",
              "      <td>-0.003142</td>\n",
              "      <td>-0.003594</td>\n",
              "      <td>0.100658</td>\n",
              "      <td>0.084113</td>\n",
              "      <td>0.102911</td>\n",
              "      <td>...</td>\n",
              "      <td>-0.052278</td>\n",
              "      <td>0.004810</td>\n",
              "      <td>-0.570053</td>\n",
              "      <td>1.000000</td>\n",
              "      <td>-0.288843</td>\n",
              "      <td>-0.109546</td>\n",
              "      <td>0.000197</td>\n",
              "      <td>0.057629</td>\n",
              "      <td>0.067590</td>\n",
              "      <td>-0.178225</td>\n",
              "    </tr>\n",
              "    <tr>\n",
              "      <th>is_biannual</th>\n",
              "      <td>0.003603</td>\n",
              "      <td>-0.116205</td>\n",
              "      <td>0.247334</td>\n",
              "      <td>0.201699</td>\n",
              "      <td>0.563801</td>\n",
              "      <td>0.004442</td>\n",
              "      <td>0.106618</td>\n",
              "      <td>0.191698</td>\n",
              "      <td>0.111391</td>\n",
              "      <td>0.165248</td>\n",
              "      <td>...</td>\n",
              "      <td>-0.146281</td>\n",
              "      <td>-0.073256</td>\n",
              "      <td>-0.621933</td>\n",
              "      <td>-0.288843</td>\n",
              "      <td>1.000000</td>\n",
              "      <td>-0.281147</td>\n",
              "      <td>-0.007423</td>\n",
              "      <td>0.155004</td>\n",
              "      <td>0.174410</td>\n",
              "      <td>-0.301552</td>\n",
              "    </tr>\n",
              "    <tr>\n",
              "      <th>electric_check</th>\n",
              "      <td>-0.000844</td>\n",
              "      <td>0.171322</td>\n",
              "      <td>-0.083207</td>\n",
              "      <td>-0.149274</td>\n",
              "      <td>-0.210197</td>\n",
              "      <td>0.002747</td>\n",
              "      <td>0.083583</td>\n",
              "      <td>-0.112295</td>\n",
              "      <td>-0.000364</td>\n",
              "      <td>-0.003308</td>\n",
              "      <td>...</td>\n",
              "      <td>0.208427</td>\n",
              "      <td>0.271117</td>\n",
              "      <td>0.330879</td>\n",
              "      <td>-0.109546</td>\n",
              "      <td>-0.281147</td>\n",
              "      <td>1.000000</td>\n",
              "      <td>-0.386971</td>\n",
              "      <td>-0.377270</td>\n",
              "      <td>-0.373978</td>\n",
              "      <td>0.301455</td>\n",
              "    </tr>\n",
              "    <tr>\n",
              "      <th>mail_check</th>\n",
              "      <td>-0.013199</td>\n",
              "      <td>-0.152987</td>\n",
              "      <td>-0.096948</td>\n",
              "      <td>0.056448</td>\n",
              "      <td>-0.232181</td>\n",
              "      <td>-0.004463</td>\n",
              "      <td>-0.227672</td>\n",
              "      <td>-0.079918</td>\n",
              "      <td>-0.174075</td>\n",
              "      <td>-0.187325</td>\n",
              "      <td>...</td>\n",
              "      <td>-0.203981</td>\n",
              "      <td>-0.376568</td>\n",
              "      <td>0.006209</td>\n",
              "      <td>0.000197</td>\n",
              "      <td>-0.007423</td>\n",
              "      <td>-0.386971</td>\n",
              "      <td>1.000000</td>\n",
              "      <td>-0.288097</td>\n",
              "      <td>-0.285583</td>\n",
              "      <td>-0.090773</td>\n",
              "    </tr>\n",
              "    <tr>\n",
              "      <th>autotransfer</th>\n",
              "      <td>0.015973</td>\n",
              "      <td>-0.016235</td>\n",
              "      <td>0.111406</td>\n",
              "      <td>0.052369</td>\n",
              "      <td>0.243822</td>\n",
              "      <td>0.008271</td>\n",
              "      <td>0.075429</td>\n",
              "      <td>0.094366</td>\n",
              "      <td>0.086942</td>\n",
              "      <td>0.083047</td>\n",
              "      <td>...</td>\n",
              "      <td>-0.017469</td>\n",
              "      <td>0.042410</td>\n",
              "      <td>-0.180159</td>\n",
              "      <td>0.057629</td>\n",
              "      <td>0.155004</td>\n",
              "      <td>-0.377270</td>\n",
              "      <td>-0.288097</td>\n",
              "      <td>1.000000</td>\n",
              "      <td>-0.278423</td>\n",
              "      <td>-0.118136</td>\n",
              "    </tr>\n",
              "    <tr>\n",
              "      <th>autocredit</th>\n",
              "      <td>-0.001632</td>\n",
              "      <td>-0.024359</td>\n",
              "      <td>0.082327</td>\n",
              "      <td>0.061134</td>\n",
              "      <td>0.232800</td>\n",
              "      <td>-0.006916</td>\n",
              "      <td>0.060319</td>\n",
              "      <td>0.115473</td>\n",
              "      <td>0.090455</td>\n",
              "      <td>0.111252</td>\n",
              "      <td>...</td>\n",
              "      <td>-0.013726</td>\n",
              "      <td>0.030055</td>\n",
              "      <td>-0.204960</td>\n",
              "      <td>0.067590</td>\n",
              "      <td>0.174410</td>\n",
              "      <td>-0.373978</td>\n",
              "      <td>-0.285583</td>\n",
              "      <td>-0.278423</td>\n",
              "      <td>1.000000</td>\n",
              "      <td>-0.134687</td>\n",
              "    </tr>\n",
              "    <tr>\n",
              "      <th>churn</th>\n",
              "      <td>0.008545</td>\n",
              "      <td>0.150541</td>\n",
              "      <td>-0.149982</td>\n",
              "      <td>-0.163128</td>\n",
              "      <td>-0.354049</td>\n",
              "      <td>0.011691</td>\n",
              "      <td>0.040033</td>\n",
              "      <td>-0.171270</td>\n",
              "      <td>-0.082307</td>\n",
              "      <td>-0.066193</td>\n",
              "      <td>...</td>\n",
              "      <td>0.191454</td>\n",
              "      <td>0.192858</td>\n",
              "      <td>0.404565</td>\n",
              "      <td>-0.178225</td>\n",
              "      <td>-0.301552</td>\n",
              "      <td>0.301455</td>\n",
              "      <td>-0.090773</td>\n",
              "      <td>-0.118136</td>\n",
              "      <td>-0.134687</td>\n",
              "      <td>1.000000</td>\n",
              "    </tr>\n",
              "  </tbody>\n",
              "</table>\n",
              "<p>23 rows × 23 columns</p>\n",
              "</div>\n",
              "      <button class=\"colab-df-convert\" onclick=\"convertToInteractive('df-356ea5ac-0f13-4cfc-ab81-0130ff18f446')\"\n",
              "              title=\"Convert this dataframe to an interactive table.\"\n",
              "              style=\"display:none;\">\n",
              "        \n",
              "  <svg xmlns=\"http://www.w3.org/2000/svg\" height=\"24px\"viewBox=\"0 0 24 24\"\n",
              "       width=\"24px\">\n",
              "    <path d=\"M0 0h24v24H0V0z\" fill=\"none\"/>\n",
              "    <path d=\"M18.56 5.44l.94 2.06.94-2.06 2.06-.94-2.06-.94-.94-2.06-.94 2.06-2.06.94zm-11 1L8.5 8.5l.94-2.06 2.06-.94-2.06-.94L8.5 2.5l-.94 2.06-2.06.94zm10 10l.94 2.06.94-2.06 2.06-.94-2.06-.94-.94-2.06-.94 2.06-2.06.94z\"/><path d=\"M17.41 7.96l-1.37-1.37c-.4-.4-.92-.59-1.43-.59-.52 0-1.04.2-1.43.59L10.3 9.45l-7.72 7.72c-.78.78-.78 2.05 0 2.83L4 21.41c.39.39.9.59 1.41.59.51 0 1.02-.2 1.41-.59l7.78-7.78 2.81-2.81c.8-.78.8-2.07 0-2.86zM5.41 20L4 18.59l7.72-7.72 1.47 1.35L5.41 20z\"/>\n",
              "  </svg>\n",
              "      </button>\n",
              "      \n",
              "  <style>\n",
              "    .colab-df-container {\n",
              "      display:flex;\n",
              "      flex-wrap:wrap;\n",
              "      gap: 12px;\n",
              "    }\n",
              "\n",
              "    .colab-df-convert {\n",
              "      background-color: #E8F0FE;\n",
              "      border: none;\n",
              "      border-radius: 50%;\n",
              "      cursor: pointer;\n",
              "      display: none;\n",
              "      fill: #1967D2;\n",
              "      height: 32px;\n",
              "      padding: 0 0 0 0;\n",
              "      width: 32px;\n",
              "    }\n",
              "\n",
              "    .colab-df-convert:hover {\n",
              "      background-color: #E2EBFA;\n",
              "      box-shadow: 0px 1px 2px rgba(60, 64, 67, 0.3), 0px 1px 3px 1px rgba(60, 64, 67, 0.15);\n",
              "      fill: #174EA6;\n",
              "    }\n",
              "\n",
              "    [theme=dark] .colab-df-convert {\n",
              "      background-color: #3B4455;\n",
              "      fill: #D2E3FC;\n",
              "    }\n",
              "\n",
              "    [theme=dark] .colab-df-convert:hover {\n",
              "      background-color: #434B5C;\n",
              "      box-shadow: 0px 1px 3px 1px rgba(0, 0, 0, 0.15);\n",
              "      filter: drop-shadow(0px 1px 2px rgba(0, 0, 0, 0.3));\n",
              "      fill: #FFFFFF;\n",
              "    }\n",
              "  </style>\n",
              "\n",
              "      <script>\n",
              "        const buttonEl =\n",
              "          document.querySelector('#df-356ea5ac-0f13-4cfc-ab81-0130ff18f446 button.colab-df-convert');\n",
              "        buttonEl.style.display =\n",
              "          google.colab.kernel.accessAllowed ? 'block' : 'none';\n",
              "\n",
              "        async function convertToInteractive(key) {\n",
              "          const element = document.querySelector('#df-356ea5ac-0f13-4cfc-ab81-0130ff18f446');\n",
              "          const dataTable =\n",
              "            await google.colab.kernel.invokeFunction('convertToInteractive',\n",
              "                                                     [key], {});\n",
              "          if (!dataTable) return;\n",
              "\n",
              "          const docLinkHtml = 'Like what you see? Visit the ' +\n",
              "            '<a target=\"_blank\" href=https://colab.research.google.com/notebooks/data_table.ipynb>data table notebook</a>'\n",
              "            + ' to learn more about interactive tables.';\n",
              "          element.innerHTML = '';\n",
              "          dataTable['output_type'] = 'display_data';\n",
              "          await google.colab.output.renderOutput(dataTable, element);\n",
              "          const docLink = document.createElement('div');\n",
              "          docLink.innerHTML = docLinkHtml;\n",
              "          element.appendChild(docLink);\n",
              "        }\n",
              "      </script>\n",
              "    </div>\n",
              "  </div>\n",
              "  "
            ]
          },
          "metadata": {},
          "execution_count": 20
        }
      ]
    },
    {
      "cell_type": "code",
      "source": [
        "X.corrwith(y).sort_values()"
      ],
      "metadata": {
        "colab": {
          "base_uri": "https://localhost:8080/"
        },
        "id": "wQVD7x-rlknM",
        "outputId": "f6520fb2-2bb3-4539-c822-a25f88b8417c"
      },
      "execution_count": null,
      "outputs": [
        {
          "output_type": "execute_result",
          "data": {
            "text/plain": [
              "tenure           -0.354049\n",
              "is_biannual      -0.301552\n",
              "total            -0.199484\n",
              "is_yearly        -0.178225\n",
              "security         -0.171270\n",
              "support          -0.164716\n",
              "dependents       -0.163128\n",
              "partner          -0.149982\n",
              "autocredit       -0.134687\n",
              "autotransfer     -0.118136\n",
              "mail_check       -0.090773\n",
              "backup           -0.082307\n",
              "protection       -0.066193\n",
              "gender            0.008545\n",
              "phone             0.011691\n",
              "lines             0.040033\n",
              "movies            0.060860\n",
              "tv                0.063254\n",
              "senior            0.150541\n",
              "paperless         0.191454\n",
              "monthly           0.192858\n",
              "electric_check    0.301455\n",
              "is_monthly        0.404565\n",
              "dtype: float64"
            ]
          },
          "metadata": {},
          "execution_count": 21
        }
      ]
    },
    {
      "cell_type": "markdown",
      "source": [
        "We can see the attributes \"is_monthly\",\"tenure\",\"is_biannual\", \"electric_check\" have the highest correlation to churn outcomes."
      ],
      "metadata": {
        "id": "voZI9HfmRiMb"
      }
    },
    {
      "cell_type": "markdown",
      "source": [
        "We will start with the first case. We will perform a logistic regression alogrithm over all attributes. "
      ],
      "metadata": {
        "id": "qnq3QzFvRzYk"
      }
    },
    {
      "cell_type": "code",
      "source": [
        "logReg = LogisticRegression().fit(X_train, y_train)"
      ],
      "metadata": {
        "id": "run6tELyjwZ0",
        "colab": {
          "base_uri": "https://localhost:8080/"
        },
        "outputId": "7e76ddfa-a076-4595-bab4-869ae59c46d5"
      },
      "execution_count": null,
      "outputs": [
        {
          "output_type": "stream",
          "name": "stderr",
          "text": [
            "/usr/local/lib/python3.9/dist-packages/sklearn/linear_model/_logistic.py:458: ConvergenceWarning: lbfgs failed to converge (status=1):\n",
            "STOP: TOTAL NO. of ITERATIONS REACHED LIMIT.\n",
            "\n",
            "Increase the number of iterations (max_iter) or scale the data as shown in:\n",
            "    https://scikit-learn.org/stable/modules/preprocessing.html\n",
            "Please also refer to the documentation for alternative solver options:\n",
            "    https://scikit-learn.org/stable/modules/linear_model.html#logistic-regression\n",
            "  n_iter_i = _check_optimize_result(\n"
          ]
        }
      ]
    },
    {
      "cell_type": "code",
      "source": [
        "y_pred = logReg.predict(X_test)"
      ],
      "metadata": {
        "id": "W-G5sTH9jxxd"
      },
      "execution_count": null,
      "outputs": []
    },
    {
      "cell_type": "code",
      "source": [
        "precision, recall, fscore, _ =  precision_recall_fscore_support(y_test, y_pred, average = 'binary')"
      ],
      "metadata": {
        "id": "MHV06jVFjwq5"
      },
      "execution_count": null,
      "outputs": []
    },
    {
      "cell_type": "code",
      "source": [
        "accuracy = accuracy_score(y_test, y_pred)"
      ],
      "metadata": {
        "id": "NPgaZ9yKSdKJ"
      },
      "execution_count": null,
      "outputs": []
    },
    {
      "cell_type": "code",
      "source": [
        "accuracy"
      ],
      "metadata": {
        "colab": {
          "base_uri": "https://localhost:8080/"
        },
        "id": "PYr2L4xxSj0f",
        "outputId": "12744b4f-e8d8-4f29-d9a2-325aee057107"
      },
      "execution_count": null,
      "outputs": [
        {
          "output_type": "execute_result",
          "data": {
            "text/plain": [
              "0.8094425483503982"
            ]
          },
          "metadata": {},
          "execution_count": 26
        }
      ]
    },
    {
      "cell_type": "code",
      "source": [
        "precision"
      ],
      "metadata": {
        "colab": {
          "base_uri": "https://localhost:8080/"
        },
        "id": "ZC0DwUd_o4FV",
        "outputId": "35f8c659-786f-47e3-e2e0-47ae8ab4e1a3"
      },
      "execution_count": null,
      "outputs": [
        {
          "output_type": "execute_result",
          "data": {
            "text/plain": [
              "0.6415094339622641"
            ]
          },
          "metadata": {},
          "execution_count": 27
        }
      ]
    },
    {
      "cell_type": "code",
      "source": [
        "recall"
      ],
      "metadata": {
        "colab": {
          "base_uri": "https://localhost:8080/"
        },
        "id": "jE89-dcQpVrq",
        "outputId": "33261499-21fe-4251-9452-b6a8f513dfe2"
      },
      "execution_count": null,
      "outputs": [
        {
          "output_type": "execute_result",
          "data": {
            "text/plain": [
              "0.5978021978021978"
            ]
          },
          "metadata": {},
          "execution_count": 28
        }
      ]
    },
    {
      "cell_type": "code",
      "source": [
        "fscore"
      ],
      "metadata": {
        "colab": {
          "base_uri": "https://localhost:8080/"
        },
        "id": "g2d4ZVF1ptr-",
        "outputId": "5ee54cf1-59f2-4a89-f56e-61a0112885f6"
      },
      "execution_count": null,
      "outputs": [
        {
          "output_type": "execute_result",
          "data": {
            "text/plain": [
              "0.6188850967007964"
            ]
          },
          "metadata": {},
          "execution_count": 29
        }
      ]
    },
    {
      "cell_type": "markdown",
      "source": [
        "For the second case, we will select the top four correlated attributes. "
      ],
      "metadata": {
        "id": "Zu4UkcMvSAYY"
      }
    },
    {
      "cell_type": "code",
      "source": [
        "X_prime = X[['tenure', 'is_biannual', 'is_monthly', 'electric_check']]\n"
      ],
      "metadata": {
        "id": "NzQdSe_zp9mO"
      },
      "execution_count": null,
      "outputs": []
    },
    {
      "cell_type": "code",
      "source": [
        "X_prime.head()"
      ],
      "metadata": {
        "colab": {
          "base_uri": "https://localhost:8080/",
          "height": 206
        },
        "id": "QIRcSQ-XBDEE",
        "outputId": "91ff0d7d-e1eb-484f-d710-fc156609eaea"
      },
      "execution_count": null,
      "outputs": [
        {
          "output_type": "execute_result",
          "data": {
            "text/plain": [
              "   tenure  is_biannual  is_monthly  electric_check\n",
              "0     1.0          0.0         1.0             1.0\n",
              "1    34.0          0.0         0.0             0.0\n",
              "2     2.0          0.0         1.0             0.0\n",
              "3    45.0          0.0         0.0             0.0\n",
              "4     2.0          0.0         1.0             1.0"
            ],
            "text/html": [
              "\n",
              "  <div id=\"df-43523697-12d9-4cc0-9ec6-06d3e596640e\">\n",
              "    <div class=\"colab-df-container\">\n",
              "      <div>\n",
              "<style scoped>\n",
              "    .dataframe tbody tr th:only-of-type {\n",
              "        vertical-align: middle;\n",
              "    }\n",
              "\n",
              "    .dataframe tbody tr th {\n",
              "        vertical-align: top;\n",
              "    }\n",
              "\n",
              "    .dataframe thead th {\n",
              "        text-align: right;\n",
              "    }\n",
              "</style>\n",
              "<table border=\"1\" class=\"dataframe\">\n",
              "  <thead>\n",
              "    <tr style=\"text-align: right;\">\n",
              "      <th></th>\n",
              "      <th>tenure</th>\n",
              "      <th>is_biannual</th>\n",
              "      <th>is_monthly</th>\n",
              "      <th>electric_check</th>\n",
              "    </tr>\n",
              "  </thead>\n",
              "  <tbody>\n",
              "    <tr>\n",
              "      <th>0</th>\n",
              "      <td>1.0</td>\n",
              "      <td>0.0</td>\n",
              "      <td>1.0</td>\n",
              "      <td>1.0</td>\n",
              "    </tr>\n",
              "    <tr>\n",
              "      <th>1</th>\n",
              "      <td>34.0</td>\n",
              "      <td>0.0</td>\n",
              "      <td>0.0</td>\n",
              "      <td>0.0</td>\n",
              "    </tr>\n",
              "    <tr>\n",
              "      <th>2</th>\n",
              "      <td>2.0</td>\n",
              "      <td>0.0</td>\n",
              "      <td>1.0</td>\n",
              "      <td>0.0</td>\n",
              "    </tr>\n",
              "    <tr>\n",
              "      <th>3</th>\n",
              "      <td>45.0</td>\n",
              "      <td>0.0</td>\n",
              "      <td>0.0</td>\n",
              "      <td>0.0</td>\n",
              "    </tr>\n",
              "    <tr>\n",
              "      <th>4</th>\n",
              "      <td>2.0</td>\n",
              "      <td>0.0</td>\n",
              "      <td>1.0</td>\n",
              "      <td>1.0</td>\n",
              "    </tr>\n",
              "  </tbody>\n",
              "</table>\n",
              "</div>\n",
              "      <button class=\"colab-df-convert\" onclick=\"convertToInteractive('df-43523697-12d9-4cc0-9ec6-06d3e596640e')\"\n",
              "              title=\"Convert this dataframe to an interactive table.\"\n",
              "              style=\"display:none;\">\n",
              "        \n",
              "  <svg xmlns=\"http://www.w3.org/2000/svg\" height=\"24px\"viewBox=\"0 0 24 24\"\n",
              "       width=\"24px\">\n",
              "    <path d=\"M0 0h24v24H0V0z\" fill=\"none\"/>\n",
              "    <path d=\"M18.56 5.44l.94 2.06.94-2.06 2.06-.94-2.06-.94-.94-2.06-.94 2.06-2.06.94zm-11 1L8.5 8.5l.94-2.06 2.06-.94-2.06-.94L8.5 2.5l-.94 2.06-2.06.94zm10 10l.94 2.06.94-2.06 2.06-.94-2.06-.94-.94-2.06-.94 2.06-2.06.94z\"/><path d=\"M17.41 7.96l-1.37-1.37c-.4-.4-.92-.59-1.43-.59-.52 0-1.04.2-1.43.59L10.3 9.45l-7.72 7.72c-.78.78-.78 2.05 0 2.83L4 21.41c.39.39.9.59 1.41.59.51 0 1.02-.2 1.41-.59l7.78-7.78 2.81-2.81c.8-.78.8-2.07 0-2.86zM5.41 20L4 18.59l7.72-7.72 1.47 1.35L5.41 20z\"/>\n",
              "  </svg>\n",
              "      </button>\n",
              "      \n",
              "  <style>\n",
              "    .colab-df-container {\n",
              "      display:flex;\n",
              "      flex-wrap:wrap;\n",
              "      gap: 12px;\n",
              "    }\n",
              "\n",
              "    .colab-df-convert {\n",
              "      background-color: #E8F0FE;\n",
              "      border: none;\n",
              "      border-radius: 50%;\n",
              "      cursor: pointer;\n",
              "      display: none;\n",
              "      fill: #1967D2;\n",
              "      height: 32px;\n",
              "      padding: 0 0 0 0;\n",
              "      width: 32px;\n",
              "    }\n",
              "\n",
              "    .colab-df-convert:hover {\n",
              "      background-color: #E2EBFA;\n",
              "      box-shadow: 0px 1px 2px rgba(60, 64, 67, 0.3), 0px 1px 3px 1px rgba(60, 64, 67, 0.15);\n",
              "      fill: #174EA6;\n",
              "    }\n",
              "\n",
              "    [theme=dark] .colab-df-convert {\n",
              "      background-color: #3B4455;\n",
              "      fill: #D2E3FC;\n",
              "    }\n",
              "\n",
              "    [theme=dark] .colab-df-convert:hover {\n",
              "      background-color: #434B5C;\n",
              "      box-shadow: 0px 1px 3px 1px rgba(0, 0, 0, 0.15);\n",
              "      filter: drop-shadow(0px 1px 2px rgba(0, 0, 0, 0.3));\n",
              "      fill: #FFFFFF;\n",
              "    }\n",
              "  </style>\n",
              "\n",
              "      <script>\n",
              "        const buttonEl =\n",
              "          document.querySelector('#df-43523697-12d9-4cc0-9ec6-06d3e596640e button.colab-df-convert');\n",
              "        buttonEl.style.display =\n",
              "          google.colab.kernel.accessAllowed ? 'block' : 'none';\n",
              "\n",
              "        async function convertToInteractive(key) {\n",
              "          const element = document.querySelector('#df-43523697-12d9-4cc0-9ec6-06d3e596640e');\n",
              "          const dataTable =\n",
              "            await google.colab.kernel.invokeFunction('convertToInteractive',\n",
              "                                                     [key], {});\n",
              "          if (!dataTable) return;\n",
              "\n",
              "          const docLinkHtml = 'Like what you see? Visit the ' +\n",
              "            '<a target=\"_blank\" href=https://colab.research.google.com/notebooks/data_table.ipynb>data table notebook</a>'\n",
              "            + ' to learn more about interactive tables.';\n",
              "          element.innerHTML = '';\n",
              "          dataTable['output_type'] = 'display_data';\n",
              "          await google.colab.output.renderOutput(dataTable, element);\n",
              "          const docLink = document.createElement('div');\n",
              "          docLink.innerHTML = docLinkHtml;\n",
              "          element.appendChild(docLink);\n",
              "        }\n",
              "      </script>\n",
              "    </div>\n",
              "  </div>\n",
              "  "
            ]
          },
          "metadata": {},
          "execution_count": 31
        }
      ]
    },
    {
      "cell_type": "code",
      "source": [
        "X_prime_train, X_prime_test, y_prime_train, y_prime_test = train_test_split(X_prime, y)"
      ],
      "metadata": {
        "id": "9VO_NAbLBVO1"
      },
      "execution_count": null,
      "outputs": []
    },
    {
      "cell_type": "code",
      "source": [
        "X_prime_train.shape"
      ],
      "metadata": {
        "colab": {
          "base_uri": "https://localhost:8080/"
        },
        "id": "OjOCOPm3BjXx",
        "outputId": "860d1bd5-88a9-4321-dfe2-f21743735f95"
      },
      "execution_count": null,
      "outputs": [
        {
          "output_type": "execute_result",
          "data": {
            "text/plain": [
              "(5274, 4)"
            ]
          },
          "metadata": {},
          "execution_count": 33
        }
      ]
    },
    {
      "cell_type": "code",
      "source": [
        "logRegPrime = LogisticRegression().fit(X_prime_train, y_prime_train)"
      ],
      "metadata": {
        "id": "amqFx-zEBmBo"
      },
      "execution_count": null,
      "outputs": []
    },
    {
      "cell_type": "code",
      "source": [
        "y_prime_pred = logRegPrime.predict(X_prime_test)"
      ],
      "metadata": {
        "id": "fgSijxU6B-Q9"
      },
      "execution_count": null,
      "outputs": []
    },
    {
      "cell_type": "code",
      "source": [
        "precision_p, recall_p, fscore_p, _ =  precision_recall_fscore_support(y_test, y_prime_pred, average = 'binary')"
      ],
      "metadata": {
        "id": "QtV6UlHNCD_s"
      },
      "execution_count": null,
      "outputs": []
    },
    {
      "cell_type": "code",
      "source": [
        "accuracy_p = accuracy_score(y_test, y_prime_pred)"
      ],
      "metadata": {
        "id": "qBy4ijkNTEF1"
      },
      "execution_count": null,
      "outputs": []
    },
    {
      "cell_type": "code",
      "source": [
        "accuracy_p"
      ],
      "metadata": {
        "colab": {
          "base_uri": "https://localhost:8080/"
        },
        "id": "jeG1HonGTLsM",
        "outputId": "12a5c320-4435-44eb-c86f-fb81cd06c440"
      },
      "execution_count": null,
      "outputs": [
        {
          "output_type": "execute_result",
          "data": {
            "text/plain": [
              "0.661547212741752"
            ]
          },
          "metadata": {},
          "execution_count": 39
        }
      ]
    },
    {
      "cell_type": "code",
      "source": [
        "print(\"precision: {} , recall: {} , fscore: {}\".format(precision_p,recall_p, fscore_p ))"
      ],
      "metadata": {
        "colab": {
          "base_uri": "https://localhost:8080/"
        },
        "id": "vIt8gO5GCLaE",
        "outputId": "a626c5c2-076c-4972-eac7-53b083ed5c66"
      },
      "execution_count": null,
      "outputs": [
        {
          "output_type": "stream",
          "name": "stdout",
          "text": [
            "precision: 0.279874213836478 , recall: 0.1956043956043956 , fscore: 0.23027166882276842\n"
          ]
        }
      ]
    },
    {
      "cell_type": "markdown",
      "source": [
        "You would assume that extracting the most highly-correlated attributes would result in a higher metric score; however, our results show that this is not always the case. "
      ],
      "metadata": {
        "id": "nggg2yPkDdt6"
      }
    }
  ]
}